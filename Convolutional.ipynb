{
 "cells": [
  {
   "cell_type": "code",
   "execution_count": 1,
   "id": "15c65591-0937-48e6-9077-dccc3135d439",
   "metadata": {},
   "outputs": [],
   "source": [
    "import matplotlib.pyplot as plt\n",
    "import numpy as np\n",
    "from Board import Board\n",
    "from Piece import Piece\n",
    "from Player import Player\n",
    "from Game import Game\n",
    "from shutil import copyfile\n",
    "import time\n",
    "import csv\n",
    "import pdb\n",
    "import json\n",
    "from datetime import datetime\n",
    "import os\n",
    "import torch"
   ]
  },
  {
   "cell_type": "code",
   "execution_count": 2,
   "id": "76393246-9f9f-4972-bd61-42338d00b8ed",
   "metadata": {},
   "outputs": [
    {
     "name": "stdout",
     "output_type": "stream",
     "text": [
      "cpu\n",
      "Using initialized parameters.\n"
     ]
    },
    {
     "name": "stdin",
     "output_type": "stream",
     "text": [
      "Dice roll or maximize? R\n"
     ]
    },
    {
     "name": "stdout",
     "output_type": "stream",
     "text": [
      "cpu\n"
     ]
    },
    {
     "name": "stdin",
     "output_type": "stream",
     "text": [
      "Start from saved? n\n",
      "Start from checkpoint? n\n"
     ]
    },
    {
     "name": "stdout",
     "output_type": "stream",
     "text": [
      "Using initialized parameters.\n"
     ]
    },
    {
     "name": "stdin",
     "output_type": "stream",
     "text": [
      "Dice roll or maximize? R\n"
     ]
    }
   ],
   "source": [
    "identifier = \"20241119190000\"\n",
    "s_model = \"PTC\"\n",
    "import_string = 'from ' + s_model + ' import ' + s_model + ' as sm' # create self_play model import string\n",
    "exec(import_string, globals())\n",
    "black_model = sm(\"black_model\", identifier)\n",
    "red_model = sm(\"red_model\", identifier)\n",
    "red_player = Player(model = red_model, color = \"Red\") # create the red player assigning model and color\n",
    "black_player = Player(model = black_model, color = \"Black\") # create the black player assigning model and color\n",
    "game = Game(red_player = red_player, black_player = black_player, jump_rule = True, number = 0, side = \"black\")"
   ]
  },
  {
   "cell_type": "code",
   "execution_count": 3,
   "id": "66d10735-caf2-490b-960a-a8ed8cbac8df",
   "metadata": {},
   "outputs": [],
   "source": [
    "b, b_pieces = black_model.get_input_vector(game.board, \"Black\", None)\n",
    "r, r_pieces = black_model.get_input_vector(game.board, \"Black\", None)"
   ]
  },
  {
   "cell_type": "code",
   "execution_count": 5,
   "id": "c700e3cb-8f77-4db4-b8cc-17f8118bed13",
   "metadata": {},
   "outputs": [
    {
     "data": {
      "text/plain": [
       "409"
      ]
     },
     "execution_count": 5,
     "metadata": {},
     "output_type": "execute_result"
    }
   ],
   "source": [
    "np.size(b_pieces)"
   ]
  },
  {
   "cell_type": "code",
   "execution_count": 13,
   "id": "61c8d986-a3e9-4a3b-b6f7-3cf5d039da35",
   "metadata": {},
   "outputs": [
    {
     "data": {
      "text/plain": [
       "array([[[0, 0, 0, 0],\n",
       "        [0, 0, 0, 0],\n",
       "        [0, 0, 0, 0],\n",
       "        [0, 0, 0, 0],\n",
       "        [0, 0, 0, 0],\n",
       "        [1, 1, 1, 1],\n",
       "        [1, 1, 1, 1],\n",
       "        [1, 1, 1, 1]],\n",
       "\n",
       "       [[0, 0, 0, 0],\n",
       "        [0, 0, 0, 0],\n",
       "        [0, 0, 0, 0],\n",
       "        [0, 0, 0, 0],\n",
       "        [0, 0, 0, 0],\n",
       "        [0, 0, 0, 0],\n",
       "        [0, 0, 0, 0],\n",
       "        [0, 0, 0, 0]],\n",
       "\n",
       "       [[1, 1, 1, 1],\n",
       "        [1, 1, 1, 1],\n",
       "        [1, 1, 1, 1],\n",
       "        [0, 0, 0, 0],\n",
       "        [0, 0, 0, 0],\n",
       "        [0, 0, 0, 0],\n",
       "        [0, 0, 0, 0],\n",
       "        [0, 0, 0, 0]],\n",
       "\n",
       "       [[0, 0, 0, 0],\n",
       "        [0, 0, 0, 0],\n",
       "        [0, 0, 0, 0],\n",
       "        [0, 0, 0, 0],\n",
       "        [0, 0, 0, 0],\n",
       "        [0, 0, 0, 0],\n",
       "        [0, 0, 0, 0],\n",
       "        [0, 0, 0, 0]]])"
      ]
     },
     "execution_count": 13,
     "metadata": {},
     "output_type": "execute_result"
    }
   ],
   "source": [
    "r"
   ]
  },
  {
   "cell_type": "code",
   "execution_count": 17,
   "id": "bc19b43b-eacf-461b-b107-36118c2c024c",
   "metadata": {},
   "outputs": [
    {
     "data": {
      "text/plain": [
       "409"
      ]
     },
     "execution_count": 17,
     "metadata": {},
     "output_type": "execute_result"
    }
   ],
   "source": [
    "np.size(b_pieces)"
   ]
  },
  {
   "cell_type": "code",
   "execution_count": null,
   "id": "1f859669-ce67-42cc-a2e3-b5597306d67f",
   "metadata": {},
   "outputs": [],
   "source": []
  }
 ],
 "metadata": {
  "kernelspec": {
   "display_name": "Python 3 (ipykernel)",
   "language": "python",
   "name": "python3"
  },
  "language_info": {
   "codemirror_mode": {
    "name": "ipython",
    "version": 3
   },
   "file_extension": ".py",
   "mimetype": "text/x-python",
   "name": "python",
   "nbconvert_exporter": "python",
   "pygments_lexer": "ipython3",
   "version": "3.12.7"
  }
 },
 "nbformat": 4,
 "nbformat_minor": 5
}
