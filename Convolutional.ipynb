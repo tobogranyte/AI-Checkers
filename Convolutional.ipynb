{
 "cells": [
  {
   "cell_type": "code",
   "execution_count": 1,
   "id": "15c65591-0937-48e6-9077-dccc3135d439",
   "metadata": {},
   "outputs": [],
   "source": [
    "import matplotlib.pyplot as plt\n",
    "import numpy as np\n",
    "from Board import Board\n",
    "from Piece import Piece\n",
    "from Player import Player\n",
    "from Game import Game\n",
    "from shutil import copyfile\n",
    "import time\n",
    "import csv\n",
    "import pdb\n",
    "import json\n",
    "from datetime import datetime\n",
    "import os\n",
    "import torch"
   ]
  },
  {
   "cell_type": "code",
   "execution_count": 2,
   "id": "76393246-9f9f-4972-bd61-42338d00b8ed",
   "metadata": {},
   "outputs": [
    {
     "name": "stdout",
     "output_type": "stream",
     "text": [
      "cuda\n",
      "Using initialized parameters.\n"
     ]
    },
    {
     "name": "stdin",
     "output_type": "stream",
     "text": [
      "Dice roll or maximize? R\n"
     ]
    },
    {
     "name": "stdout",
     "output_type": "stream",
     "text": [
      "cuda\n",
      "Using initialized parameters.\n"
     ]
    },
    {
     "name": "stdin",
     "output_type": "stream",
     "text": [
      "Dice roll or maximize? R\n"
     ]
    }
   ],
   "source": [
    "identifier = \"20241119190000\"\n",
    "s_model = \"PTC\"\n",
    "import_string = 'from ' + s_model + ' import ' + s_model + ' as sm' # create self_play model import string\n",
    "exec(import_string, globals())\n",
    "black_model = sm(\"black_model\", identifier)\n",
    "red_model = sm(\"red_model\", identifier)\n",
    "red_player = Player(model = red_model, color = \"Red\") # create the red player assigning model and color\n",
    "black_player = Player(model = black_model, color = \"Black\") # create the black player assigning model and color\n",
    "game = Game(red_player = red_player, black_player = black_player, jump_rule = True, number = 0, side = \"black\")"
   ]
  },
  {
   "cell_type": "code",
   "execution_count": 3,
   "id": "66d10735-caf2-490b-960a-a8ed8cbac8df",
   "metadata": {},
   "outputs": [],
   "source": [
    "b, b_pieces = black_model.get_input_vector(game.board, \"Black\", None)\n",
    "r, r_pieces = black_model.get_input_vector(game.board, \"Black\", None)"
   ]
  },
  {
   "cell_type": "code",
   "execution_count": 4,
   "id": "c700e3cb-8f77-4db4-b8cc-17f8118bed13",
   "metadata": {},
   "outputs": [
    {
     "data": {
      "text/plain": [
       "409"
      ]
     },
     "execution_count": 4,
     "metadata": {},
     "output_type": "execute_result"
    }
   ],
   "source": [
    "np.size(b_pieces)"
   ]
  },
  {
   "cell_type": "code",
   "execution_count": 5,
   "id": "61c8d986-a3e9-4a3b-b6f7-3cf5d039da35",
   "metadata": {},
   "outputs": [
    {
     "data": {
      "text/plain": [
       "128"
      ]
     },
     "execution_count": 5,
     "metadata": {},
     "output_type": "execute_result"
    }
   ],
   "source": [
    "r.size"
   ]
  },
  {
   "cell_type": "code",
   "execution_count": 17,
   "id": "bc19b43b-eacf-461b-b107-36118c2c024c",
   "metadata": {},
   "outputs": [
    {
     "data": {
      "text/plain": [
       "409"
      ]
     },
     "execution_count": 17,
     "metadata": {},
     "output_type": "execute_result"
    }
   ],
   "source": [
    "np.size(b_pieces)"
   ]
  },
  {
   "cell_type": "code",
   "execution_count": 12,
   "id": "1f859669-ce67-42cc-a2e3-b5597306d67f",
   "metadata": {},
   "outputs": [],
   "source": [
    "reward = np.array([[0, 1, 0, -1]])"
   ]
  },
  {
   "cell_type": "code",
   "execution_count": 13,
   "id": "cdfa2692-3e2c-4ba2-9625-872149e31200",
   "metadata": {},
   "outputs": [
    {
     "data": {
      "text/plain": [
       "(1, 4)"
      ]
     },
     "execution_count": 13,
     "metadata": {},
     "output_type": "execute_result"
    }
   ],
   "source": [
    "reward.shape"
   ]
  },
  {
   "cell_type": "code",
   "execution_count": 14,
   "id": "f4a6f1d4-7314-498e-95ba-4a7ed96afb9d",
   "metadata": {},
   "outputs": [],
   "source": [
    "reward_non_zero_mask = np.squeeze(reward, axis=0) != 0"
   ]
  },
  {
   "cell_type": "code",
   "execution_count": 15,
   "id": "0cb3940b-b342-4244-a948-b04bfb6f2d1b",
   "metadata": {},
   "outputs": [
    {
     "data": {
      "text/plain": [
       "array([False,  True, False,  True])"
      ]
     },
     "execution_count": 15,
     "metadata": {},
     "output_type": "execute_result"
    }
   ],
   "source": [
    "reward_non_zero_mask"
   ]
  },
  {
   "cell_type": "code",
   "execution_count": 18,
   "id": "795d516e-9081-45ac-b368-d43734dca8ac",
   "metadata": {},
   "outputs": [],
   "source": [
    "val = np.arange(0, 4).reshape(1,4)"
   ]
  },
  {
   "cell_type": "code",
   "execution_count": 19,
   "id": "a990df0d-3a46-4b12-a689-57ec222b3beb",
   "metadata": {},
   "outputs": [
    {
     "data": {
      "text/plain": [
       "array([[0, 1, 2, 3]])"
      ]
     },
     "execution_count": 19,
     "metadata": {},
     "output_type": "execute_result"
    }
   ],
   "source": [
    "val"
   ]
  },
  {
   "cell_type": "code",
   "execution_count": 21,
   "id": "c360badd-34ee-4d9f-80b4-0d208147d840",
   "metadata": {},
   "outputs": [],
   "source": [
    "filtered_val = val[:, reward_non_zero_mask]"
   ]
  },
  {
   "cell_type": "code",
   "execution_count": 22,
   "id": "a6644d53-c7b3-4f63-ba28-a5a3325a5e1e",
   "metadata": {},
   "outputs": [
    {
     "data": {
      "text/plain": [
       "array([[1, 3]])"
      ]
     },
     "execution_count": 22,
     "metadata": {},
     "output_type": "execute_result"
    }
   ],
   "source": [
    "filtered_val"
   ]
  },
  {
   "cell_type": "code",
   "execution_count": 27,
   "id": "78407e3e-100e-4264-bf50-49bec9ead274",
   "metadata": {},
   "outputs": [],
   "source": [
    "v = np.argmax(val)"
   ]
  },
  {
   "cell_type": "code",
   "execution_count": 28,
   "id": "8f2e0389-57ec-49e1-8754-57438dee160a",
   "metadata": {},
   "outputs": [
    {
     "name": "stdout",
     "output_type": "stream",
     "text": [
      "3\n"
     ]
    }
   ],
   "source": [
    "print(v)"
   ]
  },
  {
   "cell_type": "code",
   "execution_count": 93,
   "id": "8ff61313-d1ad-4b9b-86a3-863159cdaf87",
   "metadata": {},
   "outputs": [],
   "source": [
    "epsilon = 1e-8\n",
    "X = torch.tensor([[1.5, 2, 0],[0, 2, 3],[2.5, 0, 3]])\n",
    "filtered_X = torch.tensor([[1.5, 2, 0],[2.5, 0, 3]])\n",
    "Y = torch.tensor([[1, 0, 0],[0, 1, 0], [0, 0, 1]])\n",
    "filtered_Y = torch.tensor([[1, 0, 0], [0, 0, 1]])\n",
    "log_prob = torch.log(X + epsilon)\n",
    "filtered_log_prob = torch.log(filtered_X + epsilon)\n",
    "reward = torch.tensor([[1], [0], [-1]])\n",
    "filtered_reward = torch.tensor([[1], [-1]])\n",
    "reward_win = torch.where(reward == 1, 1, 0)\n",
    "reward_loss = torch.where(reward == -1, -1, 0)\n",
    "filtered_reward_win = torch.where(filtered_reward == 1, 1, 0)\n",
    "filtered_reward_loss = torch.where(filtered_reward == -1, -1, 0)\n",
    "log_prob_move = log_prob[Y == 1].unsqueeze(1)\n",
    "filtered_log_prob_move = filtered_log_prob[filtered_Y == 1].unsqueeze(1)\n",
    "cost_win = - reward_win * log_prob_move\n",
    "filtered_cost_win = - filtered_reward_win * filtered_log_prob_move\n",
    "cost_loss = - reward_loss * log_prob_move\n",
    "filtered_cost_loss = - filtered_reward_loss * filtered_log_prob_move"
   ]
  },
  {
   "cell_type": "code",
   "execution_count": 94,
   "id": "fb58976b-ce09-4a17-948d-9ff1a629ac4e",
   "metadata": {},
   "outputs": [
    {
     "data": {
      "text/plain": [
       "tensor([[1, 0, 0],\n",
       "        [0, 1, 0],\n",
       "        [0, 0, 1]])"
      ]
     },
     "execution_count": 94,
     "metadata": {},
     "output_type": "execute_result"
    }
   ],
   "source": [
    "Y"
   ]
  },
  {
   "cell_type": "code",
   "execution_count": 95,
   "id": "8bd55646-e4bc-4bc6-aec5-20005efa3b61",
   "metadata": {},
   "outputs": [
    {
     "data": {
      "text/plain": [
       "tensor([[  0.4055,   0.6931, -18.4207],\n",
       "        [-18.4207,   0.6931,   1.0986],\n",
       "        [  0.9163, -18.4207,   1.0986]])"
      ]
     },
     "execution_count": 95,
     "metadata": {},
     "output_type": "execute_result"
    }
   ],
   "source": [
    "log_prob"
   ]
  },
  {
   "cell_type": "code",
   "execution_count": 96,
   "id": "e376bcb1-9960-4f0b-8c61-9c252ad69706",
   "metadata": {},
   "outputs": [
    {
     "data": {
      "text/plain": [
       "tensor([[  0.4055,   0.6931, -18.4207],\n",
       "        [  0.9163, -18.4207,   1.0986]])"
      ]
     },
     "execution_count": 96,
     "metadata": {},
     "output_type": "execute_result"
    }
   ],
   "source": [
    "filtered_log_prob"
   ]
  },
  {
   "cell_type": "code",
   "execution_count": 97,
   "id": "6c799d1f-5620-4ddc-9b4d-5a1247d796a0",
   "metadata": {},
   "outputs": [
    {
     "data": {
      "text/plain": [
       "tensor([[0.4055],\n",
       "        [0.6931],\n",
       "        [1.0986]])"
      ]
     },
     "execution_count": 97,
     "metadata": {},
     "output_type": "execute_result"
    }
   ],
   "source": [
    "log_prob_move"
   ]
  },
  {
   "cell_type": "code",
   "execution_count": 98,
   "id": "55297f93-8ee0-4b81-881b-573253f69863",
   "metadata": {},
   "outputs": [
    {
     "data": {
      "text/plain": [
       "tensor([[0.4055],\n",
       "        [1.0986]])"
      ]
     },
     "execution_count": 98,
     "metadata": {},
     "output_type": "execute_result"
    }
   ],
   "source": [
    "filtered_log_prob_move"
   ]
  },
  {
   "cell_type": "code",
   "execution_count": 99,
   "id": "f1dbd5b2-1a37-4cc3-837a-774b128423a9",
   "metadata": {},
   "outputs": [
    {
     "data": {
      "text/plain": [
       "tensor([[-0.4055],\n",
       "        [ 0.0000],\n",
       "        [ 0.0000]])"
      ]
     },
     "execution_count": 99,
     "metadata": {},
     "output_type": "execute_result"
    }
   ],
   "source": [
    "cost_win"
   ]
  },
  {
   "cell_type": "code",
   "execution_count": 100,
   "id": "4aada37a-c1b6-48f5-a1cb-a785452129a2",
   "metadata": {},
   "outputs": [
    {
     "data": {
      "text/plain": [
       "tensor([[-0.4055],\n",
       "        [ 0.0000]])"
      ]
     },
     "execution_count": 100,
     "metadata": {},
     "output_type": "execute_result"
    }
   ],
   "source": [
    "filtered_cost_win"
   ]
  },
  {
   "cell_type": "code",
   "execution_count": 101,
   "id": "301f5195-6eb3-4aac-b5c9-f34dead349f0",
   "metadata": {},
   "outputs": [
    {
     "data": {
      "text/plain": [
       "tensor([[0.0000],\n",
       "        [0.0000],\n",
       "        [1.0986]])"
      ]
     },
     "execution_count": 101,
     "metadata": {},
     "output_type": "execute_result"
    }
   ],
   "source": [
    "cost_loss"
   ]
  },
  {
   "cell_type": "code",
   "execution_count": 102,
   "id": "393195d6-4837-4176-ab0f-39f939af6c06",
   "metadata": {},
   "outputs": [
    {
     "data": {
      "text/plain": [
       "tensor([[0.0000],\n",
       "        [1.0986]])"
      ]
     },
     "execution_count": 102,
     "metadata": {},
     "output_type": "execute_result"
    }
   ],
   "source": [
    "filtered_cost_loss"
   ]
  },
  {
   "cell_type": "code",
   "execution_count": 85,
   "id": "39be7607-55a8-4b8c-b430-c4e2c8f208db",
   "metadata": {},
   "outputs": [
    {
     "data": {
      "text/plain": [
       "tensor([[1],\n",
       "        [0],\n",
       "        [0]])"
      ]
     },
     "execution_count": 85,
     "metadata": {},
     "output_type": "execute_result"
    }
   ],
   "source": [
    "reward_win"
   ]
  },
  {
   "cell_type": "code",
   "execution_count": 103,
   "id": "6eb8ad38-7f75-4aca-8912-e2dc84c05ecb",
   "metadata": {},
   "outputs": [
    {
     "data": {
      "text/plain": [
       "tensor(1.0986)"
      ]
     },
     "execution_count": 103,
     "metadata": {},
     "output_type": "execute_result"
    }
   ],
   "source": [
    "cost_loss.sum()"
   ]
  },
  {
   "cell_type": "code",
   "execution_count": 104,
   "id": "524cb4ce-b796-43dd-81e1-14e843679c3b",
   "metadata": {},
   "outputs": [
    {
     "data": {
      "text/plain": [
       "tensor(1.0986)"
      ]
     },
     "execution_count": 104,
     "metadata": {},
     "output_type": "execute_result"
    }
   ],
   "source": [
    "filtered_cost_loss.sum()"
   ]
  },
  {
   "cell_type": "code",
   "execution_count": null,
   "id": "52df6f64-5c80-4a93-8e7a-e7eac8113e7b",
   "metadata": {},
   "outputs": [],
   "source": []
  }
 ],
 "metadata": {
  "kernelspec": {
   "display_name": "Python 3 (ipykernel)",
   "language": "python",
   "name": "python3"
  },
  "language_info": {
   "codemirror_mode": {
    "name": "ipython",
    "version": 3
   },
   "file_extension": ".py",
   "mimetype": "text/x-python",
   "name": "python",
   "nbconvert_exporter": "python",
   "pygments_lexer": "ipython3",
   "version": "3.11.0"
  }
 },
 "nbformat": 4,
 "nbformat_minor": 5
}
