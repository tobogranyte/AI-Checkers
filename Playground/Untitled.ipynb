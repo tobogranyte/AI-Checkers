{
 "cells": [
  {
   "cell_type": "code",
   "execution_count": 1,
   "id": "6d44296c-60bf-4501-8868-c3cf35be82e0",
   "metadata": {},
   "outputs": [],
   "source": [
    "import torch\n",
    "import torch.nn as nn\n",
    "import matplotlib.pyplot as plt\n",
    "import os\n",
    "import random\n",
    "import numpy as np\n"
   ]
  },
  {
   "cell_type": "code",
   "execution_count": 2,
   "id": "6fd557da-15dc-41ba-a1bb-4752ddf4d544",
   "metadata": {},
   "outputs": [],
   "source": [
    "output = torch.rand(10)"
   ]
  },
  {
   "cell_type": "code",
   "execution_count": 3,
   "id": "064730ba-87b1-44a0-be94-95e463928045",
   "metadata": {},
   "outputs": [],
   "source": [
    "output = output.view(2,5)"
   ]
  },
  {
   "cell_type": "code",
   "execution_count": 24,
   "id": "dd33b006-df65-4d45-a9d0-c5d0e006485e",
   "metadata": {},
   "outputs": [
    {
     "data": {
      "text/plain": [
       "tensor([[0.1989, 0.1976, 0.1971, 0.2037, 0.2027],\n",
       "        [0.4070, 0.4090, 0.3879, 0.4095, 0.3866]])"
      ]
     },
     "execution_count": 24,
     "metadata": {},
     "output_type": "execute_result"
    }
   ],
   "source": [
    "output"
   ]
  },
  {
   "cell_type": "code",
   "execution_count": 27,
   "id": "fa59fd40-70dc-4793-8650-40e61799279c",
   "metadata": {},
   "outputs": [],
   "source": [
    "output = torch.softmax(output, dim=1)"
   ]
  },
  {
   "cell_type": "code",
   "execution_count": 28,
   "id": "2f4efc48-0f64-428b-aed7-08085089d8ab",
   "metadata": {},
   "outputs": [
    {
     "data": {
      "text/plain": [
       "tensor([[0.1998, 0.1995, 0.1994, 0.2007, 0.2005],\n",
       "        [0.2014, 0.2018, 0.1976, 0.2019, 0.1973]])"
      ]
     },
     "execution_count": 28,
     "metadata": {},
     "output_type": "execute_result"
    }
   ],
   "source": [
    "output"
   ]
  },
  {
   "cell_type": "code",
   "execution_count": 29,
   "id": "a9291e7b-6c4f-45b4-9735-87eb918da829",
   "metadata": {},
   "outputs": [],
   "source": [
    "weights = torch.tensor([[1],[2]])"
   ]
  },
  {
   "cell_type": "code",
   "execution_count": 30,
   "id": "e4c874c2-1a71-4ea0-8745-8253fcf9d69b",
   "metadata": {},
   "outputs": [],
   "source": [
    "output_weighted = output*weights"
   ]
  },
  {
   "cell_type": "code",
   "execution_count": 31,
   "id": "01dff92b-2c7f-490c-9160-7d2992e8823b",
   "metadata": {},
   "outputs": [
    {
     "data": {
      "text/plain": [
       "tensor([[0.1998, 0.1995, 0.1994, 0.2007, 0.2005],\n",
       "        [0.4028, 0.4036, 0.3952, 0.4038, 0.3947]])"
      ]
     },
     "execution_count": 31,
     "metadata": {},
     "output_type": "execute_result"
    }
   ],
   "source": [
    "output_weighted"
   ]
  },
  {
   "cell_type": "code",
   "execution_count": 7,
   "id": "449c29f7-1c2b-4dfe-a9c7-906a176a2f30",
   "metadata": {},
   "outputs": [
    {
     "data": {
      "text/plain": [
       "tensor([[0.1737, 0.1406, 0.1278, 0.2894, 0.2685],\n",
       "        [0.2455, 0.2569, 0.1232, 0.2602, 0.1141]])"
      ]
     },
     "execution_count": 7,
     "metadata": {},
     "output_type": "execute_result"
    }
   ],
   "source": [
    "output"
   ]
  },
  {
   "cell_type": "code",
   "execution_count": 14,
   "id": "debbe374-316d-4dc2-a428-e8574ff99995",
   "metadata": {},
   "outputs": [],
   "source": [
    "two_hot = torch.from_numpy(np.array([[0,0,1,1,0],[1,1,1,1,0]]))"
   ]
  },
  {
   "cell_type": "code",
   "execution_count": 17,
   "id": "db3b16d7-d35c-48c7-8f55-cd0ebc8f6c74",
   "metadata": {},
   "outputs": [
    {
     "ename": "IndexError",
     "evalue": "index 2 is out of bounds for dimension 0 with size 2",
     "output_type": "error",
     "traceback": [
      "\u001b[1;31m---------------------------------------------------------------------------\u001b[0m",
      "\u001b[1;31mIndexError\u001b[0m                                Traceback (most recent call last)",
      "Cell \u001b[1;32mIn[17], line 1\u001b[0m\n\u001b[1;32m----> 1\u001b[0m \u001b[43moutput\u001b[49m\u001b[43m[\u001b[49m\u001b[43m(\u001b[49m\u001b[43mtwo_hot\u001b[49m\u001b[43m \u001b[49m\u001b[38;5;241;43m==\u001b[39;49m\u001b[43m \u001b[49m\u001b[38;5;241;43m1\u001b[39;49m\u001b[43m)\u001b[49m\u001b[38;5;241;43m*\u001b[39;49m\u001b[43mweights\u001b[49m\u001b[43m]\u001b[49m\n",
      "\u001b[1;31mIndexError\u001b[0m: index 2 is out of bounds for dimension 0 with size 2"
     ]
    }
   ],
   "source": [
    "output[(two_hot == 1)]"
   ]
  },
  {
   "cell_type": "code",
   "execution_count": null,
   "id": "6b9507fe-c728-4f31-aa7e-984d7abe62d8",
   "metadata": {},
   "outputs": [],
   "source": []
  }
 ],
 "metadata": {
  "kernelspec": {
   "display_name": "Python 3 (ipykernel)",
   "language": "python",
   "name": "python3"
  },
  "language_info": {
   "codemirror_mode": {
    "name": "ipython",
    "version": 3
   },
   "file_extension": ".py",
   "mimetype": "text/x-python",
   "name": "python",
   "nbconvert_exporter": "python",
   "pygments_lexer": "ipython3",
   "version": "3.11.0"
  }
 },
 "nbformat": 4,
 "nbformat_minor": 5
}
