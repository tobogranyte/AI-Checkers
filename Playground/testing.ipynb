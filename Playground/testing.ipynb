{
 "cells": [
  {
   "cell_type": "code",
   "execution_count": 86,
   "id": "3137c29c-c8f1-4bce-bce2-1b56dc59f1f7",
   "metadata": {},
   "outputs": [],
   "source": [
    "import torch\n",
    "import torch.nn as nn\n",
    "import numpy as np\n",
    "import os"
   ]
  },
  {
   "cell_type": "code",
   "execution_count": null,
   "id": "d9ec9751-986e-4404-bc1c-de29a095f74c",
   "metadata": {},
   "outputs": [],
   "source": []
  },
  {
   "cell_type": "code",
   "execution_count": 93,
   "id": "0507f990-ff51-4c0c-9d33-8b81ad738c02",
   "metadata": {},
   "outputs": [],
   "source": [
    "import torch\n",
    "import torch.nn as nn\n",
    "import os\n",
    "\n",
    "class Network(nn.Module):\n",
    "\n",
    "\tdef __init__(self):\n",
    "\t\tsuper().__init__()\n",
    "\t\tself.batch_num = 0\n",
    "\t\tself.layers_dims = [397, 1024, 512, 256, 128, 96] #  5-layer model\n",
    "\t\tself.learning_rate = 0.001\n",
    "\t\tcheckpoint = False\n",
    "\t\tself.device = torch.device(\"cuda\" if torch.cuda.is_available() else \"cpu\")\n",
    "\t\tprint(self.device)\n",
    "\t\tlayers = []\n",
    "\t\tfor n in range(len(self.layers_dims) - 2):\n",
    "\t\t\tlayers.append(nn.Linear(self.layers_dims[n], self.layers_dims[n+1]))\n",
    "\t\t\tlayers.append(nn.ReLU())\n",
    "\t\tlayers.append(nn.Linear(self.layers_dims[n+1], self.layers_dims[n+2]))\n",
    "\t\tlayers.append(nn.Softmax(dim=1))\n",
    "\t\tself.model = nn.Sequential(*layers)\n",
    "\t\tavailable = self.check_for_params()\n",
    "\t\tif available:\n",
    "\t\t\tif input(\"Start from saved?\") == \"Y\":\n",
    "\t\t\t\t# Restore variables from disk.\n",
    "\t\t\t\tself.model.load_state_dict(torch.load(\"Torch/model_weights.pth\"))\n",
    "\t\t\t\tprint(\"Session restored!\")\n",
    "\t\t\t\tif input(\"Make checkpoint from saved?\") == \"Y\":\n",
    "\t\t\t\t\tname = input(\"Checkpoint name:\")\n",
    "\t\t\t\t\tself.save_obj(name)\n",
    "\t\t\telse:\n",
    "\t\t\t\tif input(\"Start from checkpoint?\") == \"Y\":\n",
    "\t\t\t\t\twhile checkpoint == False and name != 's':\n",
    "\t\t\t\t\t\tname = input(\"Checkpoint name [s = skip]:\")\n",
    "\t\t\t\t\t\tif name != \"s\":\n",
    "\t\t\t\t\t\t\tself.load_checkpoint(name)\n",
    "\t\t\t\t\t\telse:\n",
    "\t\t\t\t\t\t\tprint(\"Using initialized parameters.\")\n",
    "\t\t\t\telse:\n",
    "\t\t\t\t\tprint(\"Using initialized parameters.\")\n",
    "\t\telse:\n",
    "\t\t\tprint(\"Using initialized parameters.\")\n",
    "\t\tif input(\"Dice roll or maximize?\") == \"M\":\n",
    "\t\t\tself.move_type = \"M\"\n",
    "\t\telse:\n",
    "\t\t\tself.move_type = \"R\"\n",
    "#\t\tif input(\"Gradient check?\") == \"Y\":\n",
    "#\t\t\tself.plot_activations()\n",
    "#\t\t\tself.check_gradients()\n",
    "#\t\t\tinput(\"Paused.\")\n",
    "\t\tself.initialize_training_batch()\n",
    "\t\tself.legal_means = []\n",
    "\t\tself.illegal_means = []\n",
    "\t\tself.trainings = 0\n",
    "\t\tself.apply(self._init_weights)\n",
    "\t\tself.activations = {}  # Dictionary to store activations\n",
    "\t\tself.hook_handles = []  # List to store hook handles\n",
    "\t\tself.model = self.model.to(self.device)\n",
    "\n",
    "\n",
    "\tdef _init_weights(self, module):\n",
    "\t\tif isinstance(module, nn.Linear):\n",
    "\t\t\ttorch.nn.init.xavier_uniform_(module.weight)\n",
    "\t\t\tif module.bias is not None:\n",
    "\t\t\t\ttorch.nn.init.zeros_(module.bias)\n",
    "\n",
    "\tdef add_hooks(self):\n",
    "\t\t# Register hooks and store handles\n",
    "\t\tfor name, layer in self.named_modules():\n",
    "\t\t\thandle = layer.register_forward_hook(self._save_activation(name))\n",
    "\t\t\tself.hook_handles.append(handle)\n",
    "\n",
    "\tdef remove_hooks(self):\n",
    "\t\t# Remove all hooks using stored handles\n",
    "\t\tfor handle in self.hook_handles:\n",
    "\t\t\thandle.remove()\n",
    "\t\tself.hook_handles.clear()  # Clear the list after removal\n",
    "\n",
    "\tdef forward(self, x, nograd = True):\n",
    "\t\tx = self.convert(x)\n",
    "\t\tx = x.to(self.device)\n",
    "\t\tif nograd:\n",
    "\t\t\twith torch.no_grad():\n",
    "\t\t\t\tx = self.model(x)\n",
    "\t\t\t\tx = self.deconvert(x)\n",
    "\t\t\t\treturn x\n",
    "\t\telse:\n",
    "\t\t\treturn self.model(x)\n",
    "\n",
    "\tdef _save_activation(self, name):\n",
    "\t\t# Hook function to save activations\n",
    "\t\tdef hook(model, input, output):\n",
    "\t\t\tself.activations[name] = output.detach().cpu()\n",
    "\t\treturn hook\n",
    "\n",
    "\tdef convert(self, x):\n",
    "\t\tx = torch.from_numpy(np.array(x, dtype=np.float32)).transpose(0,1)\n",
    "\t\treturn x\n",
    "\n",
    "\tdef deconvert(self, x):\n",
    "\t\tif x.requires_grad:\n",
    "\t\t\tx = x.transpose(0,1).detach().numpy().astype(np.float64)\n",
    "\t\telse:\n",
    "\t\t\tx = x.transpose(0,1).numpy().astype(np.float64)\n",
    "\t\treturn x\n",
    "\n",
    "\tdef initialize_training_batch(self):\n",
    "\t\tself.moves = []\n",
    "\t\tself.illegal_masks = []\n",
    "\t\tself.probabilities_batch = []\n",
    "\t\tself.X_batch = []\n",
    "\t\tself.attempts = [] # list with attempted (illegal) moves\n",
    "\t\t#self.attempts_illegal_masks = [] # parallel list with illegal masks for those attempts\n",
    "\t\t#self.attempts_probabilities = [] # parallel list with probability vectors for those attempts\n",
    "\t\t#self.attempts_X_batch = [] # parallel list with board inputs for those attempts\n",
    "\t\tself.num_attempts = 0 # total number of attempts to get to a legal move\n",
    "\t\tself.num_attempts_batch = []\n",
    "\n",
    "\tdef save_parameters(self):\n",
    "\t\tself.save_obj(\"model_weights\")\n",
    "\n",
    "\tdef save_obj(self, name):\n",
    "\t\ttorch.save(self.model.state_dict(), 'Torch/' + name + '.pth')\n",
    "\n",
    "\n",
    "\tdef check_for_params(self):\n",
    "\t\tavailable = os.path.isfile(\"Torch/model_weights.pth\")\n",
    "\n",
    "\t\treturn available\n",
    "\n",
    "\tdef load_checkpoint(self, name):\n",
    "\t\ttry:\n",
    "\t\t\tself.model.load_state_dict(torch.load('Torch/' + name + '.pth'))\n",
    "\t\texcept (OSError, IOError) as e:\n",
    "\t\t\tcheckpoint = False\n",
    "\t\t\tprint(\"Can't find that checkpoint...\")\n",
    "\t\tif checkpoint != False:\n",
    "\t\t\tprint(\"Checkpoint \" + name + \".pth loaded!\")\n",
    "\t\treturn checkpoint\n"
   ]
  },
  {
   "cell_type": "code",
   "execution_count": 88,
   "id": "cd744d48-e888-491c-91c0-86f7150f5545",
   "metadata": {},
   "outputs": [
    {
     "name": "stdout",
     "output_type": "stream",
     "text": [
      "cpu\n"
     ]
    },
    {
     "name": "stdin",
     "output_type": "stream",
     "text": [
      "Start from saved? Y\n"
     ]
    },
    {
     "name": "stdout",
     "output_type": "stream",
     "text": [
      "Session restored!\n"
     ]
    },
    {
     "name": "stdin",
     "output_type": "stream",
     "text": [
      "Make checkpoint from saved? Y\n",
      "Checkpoint name: test\n"
     ]
    }
   ],
   "source": [
    "network = Network()"
   ]
  },
  {
   "cell_type": "code",
   "execution_count": 70,
   "id": "ce215f11-c373-416c-aa20-932da0c2bd4a",
   "metadata": {},
   "outputs": [],
   "source": [
    "random = np.random.rand(397,50)\n",
    "X = np.where(random >= 0.5, 1, 0)"
   ]
  },
  {
   "cell_type": "code",
   "execution_count": 71,
   "id": "d311c892-cc1a-4dfd-ac2f-fdc2e031c926",
   "metadata": {},
   "outputs": [],
   "source": [
    "Y = network(X)"
   ]
  },
  {
   "cell_type": "code",
   "execution_count": 26,
   "id": "65fe8e97-4778-4732-bdd0-e168ef752f8a",
   "metadata": {},
   "outputs": [
    {
     "name": "stdout",
     "output_type": "stream",
     "text": [
      "Captured activations: {}\n"
     ]
    }
   ],
   "source": [
    "print(\"Captured activations:\", network.activations)"
   ]
  },
  {
   "cell_type": "code",
   "execution_count": 72,
   "id": "e3a44c41-63ac-4282-93e6-d7551b68e052",
   "metadata": {},
   "outputs": [],
   "source": [
    "network.save_parameters()"
   ]
  },
  {
   "cell_type": "code",
   "execution_count": 22,
   "id": "414b72e8-9731-4109-a358-b0bda03b89a3",
   "metadata": {},
   "outputs": [],
   "source": [
    "j[0,:] = m[0,:]\n",
    "j[3,:] = m[3,:]"
   ]
  },
  {
   "cell_type": "code",
   "execution_count": 23,
   "id": "20dc99f8-81cd-4e2b-bae6-4487012cfba6",
   "metadata": {},
   "outputs": [
    {
     "data": {
      "text/plain": [
       "array([[10,  0],\n",
       "       [ 0,  0],\n",
       "       [ 0,  0],\n",
       "       [ 6,  7]])"
      ]
     },
     "execution_count": 23,
     "metadata": {},
     "output_type": "execute_result"
    }
   ],
   "source": [
    "j"
   ]
  },
  {
   "cell_type": "code",
   "execution_count": 7,
   "id": "e4a2037f-1cc0-48f1-b007-278fffa9cfa4",
   "metadata": {},
   "outputs": [
    {
     "data": {
      "text/plain": [
       "array([0., 0., 0., 0., 0., 0., 0., 0., 0., 0., 0., 0., 0., 0., 0., 0., 0.,\n",
       "       0., 0., 0., 0., 0., 0., 0., 0., 0., 0., 0., 0., 0., 0., 0., 0., 0.,\n",
       "       0., 0., 0., 0., 0., 0., 0., 0., 0., 0., 0., 0., 0., 0., 0., 0., 0.,\n",
       "       0., 0., 0., 0., 0., 0., 0., 0., 0., 0., 0., 0., 0., 0., 0., 0., 0.,\n",
       "       0., 0., 0., 0., 0., 0., 0., 0., 0., 0., 0., 0., 0., 0., 0., 0., 0.,\n",
       "       0., 0., 0., 0., 0., 0., 0., 0., 0., 0., 0.])"
      ]
     },
     "execution_count": 7,
     "metadata": {},
     "output_type": "execute_result"
    }
   ],
   "source": [
    "np.zeros((96))"
   ]
  },
  {
   "cell_type": "code",
   "execution_count": 45,
   "id": "c6df1266-6caf-4199-b4dd-08b7385f0f51",
   "metadata": {},
   "outputs": [],
   "source": [
    "z = np.zeros(20)\n",
    "y = np.zeros(20)\n",
    "z[0] = 1"
   ]
  },
  {
   "cell_type": "code",
   "execution_count": 46,
   "id": "a6c3dd71-21b7-45e6-bf50-c01b5b0fcf86",
   "metadata": {},
   "outputs": [
    {
     "name": "stdout",
     "output_type": "stream",
     "text": [
      "equal\n"
     ]
    }
   ],
   "source": [
    "if not np.array_equal(y, z):\n",
    "    print('equal')"
   ]
  },
  {
   "cell_type": "code",
   "execution_count": 37,
   "id": "af9ce9ea-afb5-4a59-9efb-ee88a1378e5e",
   "metadata": {},
   "outputs": [
    {
     "data": {
      "text/plain": [
       "array([1., 0., 0., 0., 0., 0., 0., 0., 0., 0., 0., 0., 0., 0., 0., 0., 0.,\n",
       "       0., 0., 0.])"
      ]
     },
     "execution_count": 37,
     "metadata": {},
     "output_type": "execute_result"
    }
   ],
   "source": [
    "z"
   ]
  },
  {
   "cell_type": "code",
   "execution_count": 38,
   "id": "0452cc37-dd8c-4859-b809-098bd90636fc",
   "metadata": {},
   "outputs": [
    {
     "data": {
      "text/plain": [
       "array([0., 0., 0., 0., 0., 0., 0., 0., 0., 0., 0., 0., 0., 0., 0., 0., 0.,\n",
       "       0., 0., 0.])"
      ]
     },
     "execution_count": 38,
     "metadata": {},
     "output_type": "execute_result"
    }
   ],
   "source": [
    "y"
   ]
  },
  {
   "cell_type": "code",
   "execution_count": 48,
   "id": "bd625a07-be6c-4c12-9805-dd7b3ddfb97c",
   "metadata": {},
   "outputs": [],
   "source": [
    "layers_dims = [397, 1024, 512, 256, 128, 96]"
   ]
  },
  {
   "cell_type": "code",
   "execution_count": 52,
   "id": "98fa1c6a-40bd-4f3b-82b5-125e3e16aff6",
   "metadata": {},
   "outputs": [
    {
     "data": {
      "text/plain": [
       "<enumerate at 0x10f8a3600>"
      ]
     },
     "execution_count": 52,
     "metadata": {},
     "output_type": "execute_result"
    }
   ],
   "source": [
    "for l in enumerate(layers_dims):\n",
    "    print(l)"
   ]
  },
  {
   "cell_type": "code",
   "execution_count": 123,
   "id": "ce5a22e8-3f33-4b85-91cf-9c85dfc27632",
   "metadata": {},
   "outputs": [],
   "source": [
    "L = 5"
   ]
  },
  {
   "cell_type": "code",
   "execution_count": 124,
   "id": "a5d51cf7-60cd-4022-a57f-a594e02a4888",
   "metadata": {},
   "outputs": [
    {
     "name": "stdout",
     "output_type": "stream",
     "text": [
      "1\n",
      "2\n",
      "3\n",
      "4\n"
     ]
    }
   ],
   "source": [
    "for l in range (1, L):\n",
    "    print(l)"
   ]
  },
  {
   "cell_type": "code",
   "execution_count": 129,
   "id": "e47f6caa-3f90-4fee-89e0-a459f4fb8ee9",
   "metadata": {},
   "outputs": [],
   "source": [
    "red_parallel = np.zeros((10,10))\n",
    "red_parallel_2 =np.ones((10,10))"
   ]
  },
  {
   "cell_type": "code",
   "execution_count": 127,
   "id": "786aec3e-3abf-4565-9961-881e128855a0",
   "metadata": {},
   "outputs": [
    {
     "data": {
      "text/plain": [
       "array([[0., 0., 0., 0., 0., 0., 0., 0., 0., 0.],\n",
       "       [0., 0., 0., 0., 0., 0., 0., 0., 0., 0.],\n",
       "       [0., 0., 0., 0., 0., 0., 0., 0., 0., 0.],\n",
       "       [0., 0., 0., 0., 0., 0., 0., 0., 0., 0.],\n",
       "       [0., 0., 0., 0., 0., 0., 0., 0., 0., 0.],\n",
       "       [0., 0., 0., 0., 0., 0., 0., 0., 0., 0.],\n",
       "       [0., 0., 0., 0., 0., 0., 0., 0., 0., 0.],\n",
       "       [0., 0., 0., 0., 0., 0., 0., 0., 0., 0.],\n",
       "       [0., 0., 0., 0., 0., 0., 0., 0., 0., 0.],\n",
       "       [0., 0., 0., 0., 0., 0., 0., 0., 0., 0.]])"
      ]
     },
     "execution_count": 127,
     "metadata": {},
     "output_type": "execute_result"
    }
   ],
   "source": [
    "red_parallel"
   ]
  },
  {
   "cell_type": "code",
   "execution_count": 128,
   "id": "d8977fdd-d930-452a-b19c-26f0b61e1df9",
   "metadata": {},
   "outputs": [],
   "source": [
    "red_parallel_batch = []"
   ]
  },
  {
   "cell_type": "code",
   "execution_count": 130,
   "id": "25dc3d34-6db0-4c27-9986-49ded033b9b8",
   "metadata": {},
   "outputs": [
    {
     "data": {
      "text/plain": [
       "[array([[0., 0., 0., 0., 0., 0., 0., 0., 0., 0.],\n",
       "        [0., 0., 0., 0., 0., 0., 0., 0., 0., 0.],\n",
       "        [0., 0., 0., 0., 0., 0., 0., 0., 0., 0.],\n",
       "        [0., 0., 0., 0., 0., 0., 0., 0., 0., 0.],\n",
       "        [0., 0., 0., 0., 0., 0., 0., 0., 0., 0.],\n",
       "        [0., 0., 0., 0., 0., 0., 0., 0., 0., 0.],\n",
       "        [0., 0., 0., 0., 0., 0., 0., 0., 0., 0.],\n",
       "        [0., 0., 0., 0., 0., 0., 0., 0., 0., 0.],\n",
       "        [0., 0., 0., 0., 0., 0., 0., 0., 0., 0.],\n",
       "        [0., 0., 0., 0., 0., 0., 0., 0., 0., 0.]]),\n",
       " array([[1., 1., 1., 1., 1., 1., 1., 1., 1., 1.],\n",
       "        [1., 1., 1., 1., 1., 1., 1., 1., 1., 1.],\n",
       "        [1., 1., 1., 1., 1., 1., 1., 1., 1., 1.],\n",
       "        [1., 1., 1., 1., 1., 1., 1., 1., 1., 1.],\n",
       "        [1., 1., 1., 1., 1., 1., 1., 1., 1., 1.],\n",
       "        [1., 1., 1., 1., 1., 1., 1., 1., 1., 1.],\n",
       "        [1., 1., 1., 1., 1., 1., 1., 1., 1., 1.],\n",
       "        [1., 1., 1., 1., 1., 1., 1., 1., 1., 1.],\n",
       "        [1., 1., 1., 1., 1., 1., 1., 1., 1., 1.],\n",
       "        [1., 1., 1., 1., 1., 1., 1., 1., 1., 1.]])]"
      ]
     },
     "execution_count": 130,
     "metadata": {},
     "output_type": "execute_result"
    }
   ],
   "source": [
    "red_parallel_batch.append(red_parallel)\n",
    "red_parallel_batch.append(red_parallel_2)\n",
    "red_parallel_batch"
   ]
  },
  {
   "cell_type": "code",
   "execution_count": 147,
   "id": "8b63ef19-12c3-4a4d-a667-6707aeb4aa8f",
   "metadata": {},
   "outputs": [],
   "source": [
    "Y = np.hstack(red_parallel_batch)"
   ]
  },
  {
   "cell_type": "code",
   "execution_count": 148,
   "id": "08bf7830-509c-45cb-9bc2-c8da2c4efd23",
   "metadata": {},
   "outputs": [
    {
     "name": "stdout",
     "output_type": "stream",
     "text": [
      "[[0. 0. 0. 0. 0. 0. 0. 0. 0. 0. 1. 1. 1. 1. 1. 1. 1. 1. 1. 1.]\n",
      " [0. 0. 0. 0. 0. 0. 0. 0. 0. 0. 1. 1. 1. 1. 1. 1. 1. 1. 1. 1.]\n",
      " [0. 0. 0. 0. 0. 0. 0. 0. 0. 0. 1. 1. 1. 1. 1. 1. 1. 1. 1. 1.]\n",
      " [0. 0. 0. 0. 0. 0. 0. 0. 0. 0. 1. 1. 1. 1. 1. 1. 1. 1. 1. 1.]\n",
      " [0. 0. 0. 0. 0. 0. 0. 0. 0. 0. 1. 1. 1. 1. 1. 1. 1. 1. 1. 1.]\n",
      " [0. 0. 0. 0. 0. 0. 0. 0. 0. 0. 1. 1. 1. 1. 1. 1. 1. 1. 1. 1.]\n",
      " [0. 0. 0. 0. 0. 0. 0. 0. 0. 0. 1. 1. 1. 1. 1. 1. 1. 1. 1. 1.]\n",
      " [0. 0. 0. 0. 0. 0. 0. 0. 0. 0. 1. 1. 1. 1. 1. 1. 1. 1. 1. 1.]\n",
      " [0. 0. 0. 0. 0. 0. 0. 0. 0. 0. 1. 1. 1. 1. 1. 1. 1. 1. 1. 1.]\n",
      " [0. 0. 0. 0. 0. 0. 0. 0. 0. 0. 1. 1. 1. 1. 1. 1. 1. 1. 1. 1.]]\n"
     ]
    }
   ],
   "source": [
    "print(Y)"
   ]
  },
  {
   "cell_type": "code",
   "execution_count": 149,
   "id": "6d8f75fe-cac8-462f-a1c1-21450b6f1c09",
   "metadata": {},
   "outputs": [],
   "source": [
    "yTorch = torch.from_numpy(Y)"
   ]
  },
  {
   "cell_type": "code",
   "execution_count": 151,
   "id": "c1d3c2dd-87ac-4a5c-a89f-e13463ac609d",
   "metadata": {},
   "outputs": [],
   "source": [
    "yTorch = yTorch * 2"
   ]
  },
  {
   "cell_type": "code",
   "execution_count": 157,
   "id": "a5402305-7d9d-46aa-9e46-c8e1bda4ac1e",
   "metadata": {},
   "outputs": [
    {
     "data": {
      "text/plain": [
       "tensor([[0., 0., 0., 0., 0., 0., 0., 0., 0., 0., 2., 2., 2., 2., 2., 2., 2., 2.,\n",
       "         2., 2.],\n",
       "        [0., 0., 0., 0., 0., 0., 0., 0., 0., 0., 2., 2., 2., 2., 2., 2., 2., 2.,\n",
       "         2., 2.],\n",
       "        [0., 0., 0., 0., 0., 0., 0., 0., 0., 0., 2., 2., 2., 2., 2., 2., 2., 2.,\n",
       "         2., 2.],\n",
       "        [0., 0., 0., 0., 0., 0., 0., 0., 0., 0., 2., 2., 2., 2., 2., 2., 2., 2.,\n",
       "         2., 2.],\n",
       "        [0., 0., 0., 0., 0., 0., 0., 0., 0., 0., 2., 2., 2., 2., 2., 2., 2., 2.,\n",
       "         2., 2.],\n",
       "        [0., 0., 0., 0., 0., 0., 0., 0., 0., 0., 2., 2., 2., 2., 2., 2., 2., 2.,\n",
       "         2., 2.],\n",
       "        [0., 0., 0., 0., 0., 0., 0., 0., 0., 0., 2., 2., 2., 2., 2., 2., 2., 2.,\n",
       "         2., 2.],\n",
       "        [0., 0., 0., 0., 0., 0., 0., 0., 0., 0., 2., 2., 2., 2., 2., 2., 2., 2.,\n",
       "         2., 2.],\n",
       "        [0., 0., 0., 0., 0., 0., 0., 0., 0., 0., 2., 2., 2., 2., 2., 2., 2., 2.,\n",
       "         2., 2.],\n",
       "        [0., 0., 0., 0., 0., 0., 0., 0., 0., 0., 2., 2., 2., 2., 2., 2., 2., 2.,\n",
       "         2., 2.]], dtype=torch.float64)"
      ]
     },
     "execution_count": 157,
     "metadata": {},
     "output_type": "execute_result"
    }
   ],
   "source": [
    "yTorch"
   ]
  },
  {
   "cell_type": "code",
   "execution_count": 154,
   "id": "b1e57330-eaaf-438b-9dd1-05387d66fe55",
   "metadata": {},
   "outputs": [],
   "source": [
    "Y = Y * 2"
   ]
  },
  {
   "cell_type": "code",
   "execution_count": 156,
   "id": "c1571bca-5998-4f23-b0b1-3c9a1f366f8d",
   "metadata": {},
   "outputs": [
    {
     "data": {
      "text/plain": [
       "array([[0., 0., 0., 0., 0., 0., 0., 0., 0., 0., 2., 2., 2., 2., 2., 2.,\n",
       "        2., 2., 2., 2.],\n",
       "       [0., 0., 0., 0., 0., 0., 0., 0., 0., 0., 2., 2., 2., 2., 2., 2.,\n",
       "        2., 2., 2., 2.],\n",
       "       [0., 0., 0., 0., 0., 0., 0., 0., 0., 0., 2., 2., 2., 2., 2., 2.,\n",
       "        2., 2., 2., 2.],\n",
       "       [0., 0., 0., 0., 0., 0., 0., 0., 0., 0., 2., 2., 2., 2., 2., 2.,\n",
       "        2., 2., 2., 2.],\n",
       "       [0., 0., 0., 0., 0., 0., 0., 0., 0., 0., 2., 2., 2., 2., 2., 2.,\n",
       "        2., 2., 2., 2.],\n",
       "       [0., 0., 0., 0., 0., 0., 0., 0., 0., 0., 2., 2., 2., 2., 2., 2.,\n",
       "        2., 2., 2., 2.],\n",
       "       [0., 0., 0., 0., 0., 0., 0., 0., 0., 0., 2., 2., 2., 2., 2., 2.,\n",
       "        2., 2., 2., 2.],\n",
       "       [0., 0., 0., 0., 0., 0., 0., 0., 0., 0., 2., 2., 2., 2., 2., 2.,\n",
       "        2., 2., 2., 2.],\n",
       "       [0., 0., 0., 0., 0., 0., 0., 0., 0., 0., 2., 2., 2., 2., 2., 2.,\n",
       "        2., 2., 2., 2.],\n",
       "       [0., 0., 0., 0., 0., 0., 0., 0., 0., 0., 2., 2., 2., 2., 2., 2.,\n",
       "        2., 2., 2., 2.]])"
      ]
     },
     "execution_count": 156,
     "metadata": {},
     "output_type": "execute_result"
    }
   ],
   "source": [
    "Y"
   ]
  },
  {
   "cell_type": "code",
   "execution_count": 10,
   "id": "a8e184b6-0e0e-4c8c-9dfa-b92faf222449",
   "metadata": {},
   "outputs": [],
   "source": [
    "r = torch.rand(5,10)"
   ]
  },
  {
   "cell_type": "code",
   "execution_count": 11,
   "id": "c8c3caf7-d640-45d3-bc91-c759f6eb9bf5",
   "metadata": {},
   "outputs": [
    {
     "data": {
      "text/plain": [
       "tensor([[0.7302, 0.6091, 0.1549, 0.9017, 0.1234, 0.8782, 0.0391, 0.8252, 0.0432,\n",
       "         0.1410],\n",
       "        [0.5205, 0.8627, 0.4325, 0.9513, 0.7821, 0.6335, 0.5898, 0.4026, 0.9320,\n",
       "         0.6654],\n",
       "        [0.4595, 0.5178, 0.8663, 0.2911, 0.7448, 0.1995, 0.5466, 0.0338, 0.5519,\n",
       "         0.9863],\n",
       "        [0.5157, 0.6849, 0.8050, 0.6394, 0.1380, 0.7102, 0.9915, 0.2046, 0.5470,\n",
       "         0.7592],\n",
       "        [0.8816, 0.5947, 0.1256, 0.6725, 0.2499, 0.7425, 0.6869, 0.1677, 0.5164,\n",
       "         0.1793]])"
      ]
     },
     "execution_count": 11,
     "metadata": {},
     "output_type": "execute_result"
    }
   ],
   "source": [
    "r"
   ]
  },
  {
   "cell_type": "code",
   "execution_count": 18,
   "id": "4e76dd9a-8e33-46e2-8de6-a8a064a4704b",
   "metadata": {},
   "outputs": [],
   "source": [
    "s = nn.Softmax(dim=1)"
   ]
  },
  {
   "cell_type": "code",
   "execution_count": 21,
   "id": "48a2ea47-0850-46df-91ac-8e5f02034e28",
   "metadata": {},
   "outputs": [
    {
     "data": {
      "text/plain": [
       "tensor([1.0000, 1.0000, 1.0000, 1.0000, 1.0000])"
      ]
     },
     "execution_count": 21,
     "metadata": {},
     "output_type": "execute_result"
    }
   ],
   "source": [
    "s(r).sum(1)"
   ]
  },
  {
   "cell_type": "code",
   "execution_count": null,
   "id": "482c4d80-2a56-429d-8ec4-cd97e4a7ad76",
   "metadata": {},
   "outputs": [],
   "source": []
  }
 ],
 "metadata": {
  "kernelspec": {
   "display_name": "Python 3 (ipykernel)",
   "language": "python",
   "name": "python3"
  },
  "language_info": {
   "codemirror_mode": {
    "name": "ipython",
    "version": 3
   },
   "file_extension": ".py",
   "mimetype": "text/x-python",
   "name": "python",
   "nbconvert_exporter": "python",
   "pygments_lexer": "ipython3",
   "version": "3.12.7"
  }
 },
 "nbformat": 4,
 "nbformat_minor": 5
}
