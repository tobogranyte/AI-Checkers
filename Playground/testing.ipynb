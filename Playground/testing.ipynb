{
 "cells": [
  {
   "cell_type": "code",
   "execution_count": 7,
   "id": "3137c29c-c8f1-4bce-bce2-1b56dc59f1f7",
   "metadata": {},
   "outputs": [],
   "source": [
    "import torch\n",
    "import torch.nn as nn\n",
    "import numpy as np"
   ]
  },
  {
   "cell_type": "code",
   "execution_count": null,
   "id": "d9ec9751-986e-4404-bc1c-de29a095f74c",
   "metadata": {},
   "outputs": [],
   "source": []
  },
  {
   "cell_type": "code",
   "execution_count": 50,
   "id": "0507f990-ff51-4c0c-9d33-8b81ad738c02",
   "metadata": {},
   "outputs": [],
   "source": [
    "class Network(nn.Module):\n",
    "    \n",
    "    def __init__(self):\n",
    "        super().__init__()\n",
    "        self.batch_num = 0\n",
    "        self.layers_dims = [397, 1024, 512, 256, 128, 96] #  5-layer model\n",
    "        self.learning_rate = 0.001\n",
    "        checkpoint = False\n",
    "        self.device = torch.device(\"cuda\" if torch.cuda.is_available() else \"cpu\")\n",
    "        print(self.device)\n",
    "        layers = []\n",
    "        for n in range(len(self.layers_dims) - 2):\n",
    "            layers.append(nn.Linear(self.layers_dims[n], self.layers_dims[n+1]))\n",
    "            layers.append(nn.ReLU())\n",
    "        layers.append(nn.Linear(self.layers_dims[n+1], self.layers_dims[n+2]))\n",
    "        layers.append(nn.Softmax(dim=1))\n",
    "        self.model = nn.Sequential(*layers)\n",
    "        self.apply(self._init_weights)\n",
    "        self.activations = {}  # Dictionary to store activations\n",
    "        self.hook_handles = []  # List to store hook handles\n",
    "        self.model = self.model.to(self.device)\n",
    "\n",
    "\n",
    "    def _init_weights(self, module):\n",
    "        if isinstance(module, nn.Linear):\n",
    "            torch.nn.init.xavier_uniform_(module.weight)\n",
    "            if module.bias is not None:\n",
    "                torch.nn.init.zeros_(module.bias)\n",
    "\n",
    "    def add_hooks(self):\n",
    "        # Register hooks and store handles\n",
    "        for name, layer in self.named_modules():\n",
    "            handle = layer.register_forward_hook(self._save_activation(name))\n",
    "            self.hook_handles.append(handle)\n",
    "\n",
    "    def remove_hooks(self):\n",
    "        # Remove all hooks using stored handles\n",
    "        for handle in self.hook_handles:\n",
    "            handle.remove()\n",
    "        self.hook_handles.clear()  # Clear the list after removal\n",
    "\n",
    "    def forward(self, x, nograd = True):\n",
    "        x = self.convert(x)\n",
    "        x = x.to(self.device)\n",
    "        if nograd:\n",
    "            with torch.no_grad():\n",
    "                x = self.model(x)\n",
    "                x = self.deconvert(x)\n",
    "                return x\n",
    "        else:\n",
    "            return self.model(x)\n",
    "\n",
    "    def _save_activation(self, name):\n",
    "        # Hook function to save activations\n",
    "        def hook(model, input, output):\n",
    "            self.activations[name] = output.detach().cpu()\n",
    "        return hook\n",
    "\n",
    "    def convert(self, x):\n",
    "        x = torch.from_numpy(np.array(x, dtype=np.float32)).transpose(0,1)\n",
    "        return x\n",
    "\n",
    "    def deconvert(self, x):\n",
    "        if x.requires_grad:\n",
    "            x = x.transpose(0,1).detach().numpy().astype(np.float64)\n",
    "        else:\n",
    "            x = x.transpose(0,1).numpy().astype(np.float64)\n",
    "        return x\n",
    "    "
   ]
  },
  {
   "cell_type": "code",
   "execution_count": 51,
   "id": "cd744d48-e888-491c-91c0-86f7150f5545",
   "metadata": {},
   "outputs": [
    {
     "name": "stdout",
     "output_type": "stream",
     "text": [
      "cpu\n"
     ]
    }
   ],
   "source": [
    "network = Network()"
   ]
  },
  {
   "cell_type": "code",
   "execution_count": 52,
   "id": "ce215f11-c373-416c-aa20-932da0c2bd4a",
   "metadata": {},
   "outputs": [],
   "source": [
    "random = np.random.rand(397,50)\n",
    "X = np.where(random >= 0.5, 1, 0)"
   ]
  },
  {
   "cell_type": "code",
   "execution_count": 53,
   "id": "d311c892-cc1a-4dfd-ac2f-fdc2e031c926",
   "metadata": {},
   "outputs": [],
   "source": [
    "Y = network(X)"
   ]
  },
  {
   "cell_type": "code",
   "execution_count": 26,
   "id": "65fe8e97-4778-4732-bdd0-e168ef752f8a",
   "metadata": {},
   "outputs": [
    {
     "name": "stdout",
     "output_type": "stream",
     "text": [
      "Captured activations: {}\n"
     ]
    }
   ],
   "source": [
    "print(\"Captured activations:\", network.activations)"
   ]
  },
  {
   "cell_type": "code",
   "execution_count": 28,
   "id": "e3a44c41-63ac-4282-93e6-d7551b68e052",
   "metadata": {},
   "outputs": [
    {
     "name": "stdout",
     "output_type": "stream",
     "text": [
      "tensor([1.0000, 1.0000, 1.0000, 1.0000, 1.0000, 1.0000, 1.0000, 1.0000, 1.0000,\n",
      "        1.0000, 1.0000, 1.0000, 1.0000, 1.0000, 1.0000, 1.0000, 1.0000, 1.0000,\n",
      "        1.0000, 1.0000, 1.0000, 1.0000, 1.0000, 1.0000, 1.0000, 1.0000, 1.0000,\n",
      "        1.0000, 1.0000, 1.0000, 1.0000, 1.0000, 1.0000, 1.0000, 1.0000, 1.0000,\n",
      "        1.0000, 1.0000, 1.0000, 1.0000, 1.0000, 1.0000, 1.0000, 1.0000, 1.0000,\n",
      "        1.0000, 1.0000, 1.0000, 1.0000, 1.0000])\n"
     ]
    }
   ],
   "source": [
    "print(Y.sum(1))"
   ]
  },
  {
   "cell_type": "code",
   "execution_count": 22,
   "id": "414b72e8-9731-4109-a358-b0bda03b89a3",
   "metadata": {},
   "outputs": [],
   "source": [
    "j[0,:] = m[0,:]\n",
    "j[3,:] = m[3,:]"
   ]
  },
  {
   "cell_type": "code",
   "execution_count": 23,
   "id": "20dc99f8-81cd-4e2b-bae6-4487012cfba6",
   "metadata": {},
   "outputs": [
    {
     "data": {
      "text/plain": [
       "array([[10,  0],\n",
       "       [ 0,  0],\n",
       "       [ 0,  0],\n",
       "       [ 6,  7]])"
      ]
     },
     "execution_count": 23,
     "metadata": {},
     "output_type": "execute_result"
    }
   ],
   "source": [
    "j"
   ]
  },
  {
   "cell_type": "code",
   "execution_count": 7,
   "id": "e4a2037f-1cc0-48f1-b007-278fffa9cfa4",
   "metadata": {},
   "outputs": [
    {
     "data": {
      "text/plain": [
       "array([0., 0., 0., 0., 0., 0., 0., 0., 0., 0., 0., 0., 0., 0., 0., 0., 0.,\n",
       "       0., 0., 0., 0., 0., 0., 0., 0., 0., 0., 0., 0., 0., 0., 0., 0., 0.,\n",
       "       0., 0., 0., 0., 0., 0., 0., 0., 0., 0., 0., 0., 0., 0., 0., 0., 0.,\n",
       "       0., 0., 0., 0., 0., 0., 0., 0., 0., 0., 0., 0., 0., 0., 0., 0., 0.,\n",
       "       0., 0., 0., 0., 0., 0., 0., 0., 0., 0., 0., 0., 0., 0., 0., 0., 0.,\n",
       "       0., 0., 0., 0., 0., 0., 0., 0., 0., 0., 0.])"
      ]
     },
     "execution_count": 7,
     "metadata": {},
     "output_type": "execute_result"
    }
   ],
   "source": [
    "np.zeros((96))"
   ]
  },
  {
   "cell_type": "code",
   "execution_count": 45,
   "id": "c6df1266-6caf-4199-b4dd-08b7385f0f51",
   "metadata": {},
   "outputs": [],
   "source": [
    "z = np.zeros(20)\n",
    "y = np.zeros(20)\n",
    "z[0] = 1"
   ]
  },
  {
   "cell_type": "code",
   "execution_count": 46,
   "id": "a6c3dd71-21b7-45e6-bf50-c01b5b0fcf86",
   "metadata": {},
   "outputs": [
    {
     "name": "stdout",
     "output_type": "stream",
     "text": [
      "equal\n"
     ]
    }
   ],
   "source": [
    "if not np.array_equal(y, z):\n",
    "    print('equal')"
   ]
  },
  {
   "cell_type": "code",
   "execution_count": 37,
   "id": "af9ce9ea-afb5-4a59-9efb-ee88a1378e5e",
   "metadata": {},
   "outputs": [
    {
     "data": {
      "text/plain": [
       "array([1., 0., 0., 0., 0., 0., 0., 0., 0., 0., 0., 0., 0., 0., 0., 0., 0.,\n",
       "       0., 0., 0.])"
      ]
     },
     "execution_count": 37,
     "metadata": {},
     "output_type": "execute_result"
    }
   ],
   "source": [
    "z"
   ]
  },
  {
   "cell_type": "code",
   "execution_count": 38,
   "id": "0452cc37-dd8c-4859-b809-098bd90636fc",
   "metadata": {},
   "outputs": [
    {
     "data": {
      "text/plain": [
       "array([0., 0., 0., 0., 0., 0., 0., 0., 0., 0., 0., 0., 0., 0., 0., 0., 0.,\n",
       "       0., 0., 0.])"
      ]
     },
     "execution_count": 38,
     "metadata": {},
     "output_type": "execute_result"
    }
   ],
   "source": [
    "y"
   ]
  },
  {
   "cell_type": "code",
   "execution_count": 48,
   "id": "bd625a07-be6c-4c12-9805-dd7b3ddfb97c",
   "metadata": {},
   "outputs": [],
   "source": [
    "layers_dims = [397, 1024, 512, 256, 128, 96]"
   ]
  },
  {
   "cell_type": "code",
   "execution_count": 52,
   "id": "98fa1c6a-40bd-4f3b-82b5-125e3e16aff6",
   "metadata": {},
   "outputs": [
    {
     "data": {
      "text/plain": [
       "<enumerate at 0x10f8a3600>"
      ]
     },
     "execution_count": 52,
     "metadata": {},
     "output_type": "execute_result"
    }
   ],
   "source": [
    "for l in enumerate(layers_dims):\n",
    "    print(l)"
   ]
  },
  {
   "cell_type": "code",
   "execution_count": 123,
   "id": "ce5a22e8-3f33-4b85-91cf-9c85dfc27632",
   "metadata": {},
   "outputs": [],
   "source": [
    "L = 5"
   ]
  },
  {
   "cell_type": "code",
   "execution_count": 124,
   "id": "a5d51cf7-60cd-4022-a57f-a594e02a4888",
   "metadata": {},
   "outputs": [
    {
     "name": "stdout",
     "output_type": "stream",
     "text": [
      "1\n",
      "2\n",
      "3\n",
      "4\n"
     ]
    }
   ],
   "source": [
    "for l in range (1, L):\n",
    "    print(l)"
   ]
  },
  {
   "cell_type": "code",
   "execution_count": 129,
   "id": "e47f6caa-3f90-4fee-89e0-a459f4fb8ee9",
   "metadata": {},
   "outputs": [],
   "source": [
    "red_parallel = np.zeros((10,10))\n",
    "red_parallel_2 =np.ones((10,10))"
   ]
  },
  {
   "cell_type": "code",
   "execution_count": 127,
   "id": "786aec3e-3abf-4565-9961-881e128855a0",
   "metadata": {},
   "outputs": [
    {
     "data": {
      "text/plain": [
       "array([[0., 0., 0., 0., 0., 0., 0., 0., 0., 0.],\n",
       "       [0., 0., 0., 0., 0., 0., 0., 0., 0., 0.],\n",
       "       [0., 0., 0., 0., 0., 0., 0., 0., 0., 0.],\n",
       "       [0., 0., 0., 0., 0., 0., 0., 0., 0., 0.],\n",
       "       [0., 0., 0., 0., 0., 0., 0., 0., 0., 0.],\n",
       "       [0., 0., 0., 0., 0., 0., 0., 0., 0., 0.],\n",
       "       [0., 0., 0., 0., 0., 0., 0., 0., 0., 0.],\n",
       "       [0., 0., 0., 0., 0., 0., 0., 0., 0., 0.],\n",
       "       [0., 0., 0., 0., 0., 0., 0., 0., 0., 0.],\n",
       "       [0., 0., 0., 0., 0., 0., 0., 0., 0., 0.]])"
      ]
     },
     "execution_count": 127,
     "metadata": {},
     "output_type": "execute_result"
    }
   ],
   "source": [
    "red_parallel"
   ]
  },
  {
   "cell_type": "code",
   "execution_count": 128,
   "id": "d8977fdd-d930-452a-b19c-26f0b61e1df9",
   "metadata": {},
   "outputs": [],
   "source": [
    "red_parallel_batch = []"
   ]
  },
  {
   "cell_type": "code",
   "execution_count": 130,
   "id": "25dc3d34-6db0-4c27-9986-49ded033b9b8",
   "metadata": {},
   "outputs": [
    {
     "data": {
      "text/plain": [
       "[array([[0., 0., 0., 0., 0., 0., 0., 0., 0., 0.],\n",
       "        [0., 0., 0., 0., 0., 0., 0., 0., 0., 0.],\n",
       "        [0., 0., 0., 0., 0., 0., 0., 0., 0., 0.],\n",
       "        [0., 0., 0., 0., 0., 0., 0., 0., 0., 0.],\n",
       "        [0., 0., 0., 0., 0., 0., 0., 0., 0., 0.],\n",
       "        [0., 0., 0., 0., 0., 0., 0., 0., 0., 0.],\n",
       "        [0., 0., 0., 0., 0., 0., 0., 0., 0., 0.],\n",
       "        [0., 0., 0., 0., 0., 0., 0., 0., 0., 0.],\n",
       "        [0., 0., 0., 0., 0., 0., 0., 0., 0., 0.],\n",
       "        [0., 0., 0., 0., 0., 0., 0., 0., 0., 0.]]),\n",
       " array([[1., 1., 1., 1., 1., 1., 1., 1., 1., 1.],\n",
       "        [1., 1., 1., 1., 1., 1., 1., 1., 1., 1.],\n",
       "        [1., 1., 1., 1., 1., 1., 1., 1., 1., 1.],\n",
       "        [1., 1., 1., 1., 1., 1., 1., 1., 1., 1.],\n",
       "        [1., 1., 1., 1., 1., 1., 1., 1., 1., 1.],\n",
       "        [1., 1., 1., 1., 1., 1., 1., 1., 1., 1.],\n",
       "        [1., 1., 1., 1., 1., 1., 1., 1., 1., 1.],\n",
       "        [1., 1., 1., 1., 1., 1., 1., 1., 1., 1.],\n",
       "        [1., 1., 1., 1., 1., 1., 1., 1., 1., 1.],\n",
       "        [1., 1., 1., 1., 1., 1., 1., 1., 1., 1.]])]"
      ]
     },
     "execution_count": 130,
     "metadata": {},
     "output_type": "execute_result"
    }
   ],
   "source": [
    "red_parallel_batch.append(red_parallel)\n",
    "red_parallel_batch.append(red_parallel_2)\n",
    "red_parallel_batch"
   ]
  },
  {
   "cell_type": "code",
   "execution_count": 147,
   "id": "8b63ef19-12c3-4a4d-a667-6707aeb4aa8f",
   "metadata": {},
   "outputs": [],
   "source": [
    "Y = np.hstack(red_parallel_batch)"
   ]
  },
  {
   "cell_type": "code",
   "execution_count": 148,
   "id": "08bf7830-509c-45cb-9bc2-c8da2c4efd23",
   "metadata": {},
   "outputs": [
    {
     "name": "stdout",
     "output_type": "stream",
     "text": [
      "[[0. 0. 0. 0. 0. 0. 0. 0. 0. 0. 1. 1. 1. 1. 1. 1. 1. 1. 1. 1.]\n",
      " [0. 0. 0. 0. 0. 0. 0. 0. 0. 0. 1. 1. 1. 1. 1. 1. 1. 1. 1. 1.]\n",
      " [0. 0. 0. 0. 0. 0. 0. 0. 0. 0. 1. 1. 1. 1. 1. 1. 1. 1. 1. 1.]\n",
      " [0. 0. 0. 0. 0. 0. 0. 0. 0. 0. 1. 1. 1. 1. 1. 1. 1. 1. 1. 1.]\n",
      " [0. 0. 0. 0. 0. 0. 0. 0. 0. 0. 1. 1. 1. 1. 1. 1. 1. 1. 1. 1.]\n",
      " [0. 0. 0. 0. 0. 0. 0. 0. 0. 0. 1. 1. 1. 1. 1. 1. 1. 1. 1. 1.]\n",
      " [0. 0. 0. 0. 0. 0. 0. 0. 0. 0. 1. 1. 1. 1. 1. 1. 1. 1. 1. 1.]\n",
      " [0. 0. 0. 0. 0. 0. 0. 0. 0. 0. 1. 1. 1. 1. 1. 1. 1. 1. 1. 1.]\n",
      " [0. 0. 0. 0. 0. 0. 0. 0. 0. 0. 1. 1. 1. 1. 1. 1. 1. 1. 1. 1.]\n",
      " [0. 0. 0. 0. 0. 0. 0. 0. 0. 0. 1. 1. 1. 1. 1. 1. 1. 1. 1. 1.]]\n"
     ]
    }
   ],
   "source": [
    "print(Y)"
   ]
  },
  {
   "cell_type": "code",
   "execution_count": 149,
   "id": "6d8f75fe-cac8-462f-a1c1-21450b6f1c09",
   "metadata": {},
   "outputs": [],
   "source": [
    "yTorch = torch.from_numpy(Y)"
   ]
  },
  {
   "cell_type": "code",
   "execution_count": 151,
   "id": "c1d3c2dd-87ac-4a5c-a89f-e13463ac609d",
   "metadata": {},
   "outputs": [],
   "source": [
    "yTorch = yTorch * 2"
   ]
  },
  {
   "cell_type": "code",
   "execution_count": 157,
   "id": "a5402305-7d9d-46aa-9e46-c8e1bda4ac1e",
   "metadata": {},
   "outputs": [
    {
     "data": {
      "text/plain": [
       "tensor([[0., 0., 0., 0., 0., 0., 0., 0., 0., 0., 2., 2., 2., 2., 2., 2., 2., 2.,\n",
       "         2., 2.],\n",
       "        [0., 0., 0., 0., 0., 0., 0., 0., 0., 0., 2., 2., 2., 2., 2., 2., 2., 2.,\n",
       "         2., 2.],\n",
       "        [0., 0., 0., 0., 0., 0., 0., 0., 0., 0., 2., 2., 2., 2., 2., 2., 2., 2.,\n",
       "         2., 2.],\n",
       "        [0., 0., 0., 0., 0., 0., 0., 0., 0., 0., 2., 2., 2., 2., 2., 2., 2., 2.,\n",
       "         2., 2.],\n",
       "        [0., 0., 0., 0., 0., 0., 0., 0., 0., 0., 2., 2., 2., 2., 2., 2., 2., 2.,\n",
       "         2., 2.],\n",
       "        [0., 0., 0., 0., 0., 0., 0., 0., 0., 0., 2., 2., 2., 2., 2., 2., 2., 2.,\n",
       "         2., 2.],\n",
       "        [0., 0., 0., 0., 0., 0., 0., 0., 0., 0., 2., 2., 2., 2., 2., 2., 2., 2.,\n",
       "         2., 2.],\n",
       "        [0., 0., 0., 0., 0., 0., 0., 0., 0., 0., 2., 2., 2., 2., 2., 2., 2., 2.,\n",
       "         2., 2.],\n",
       "        [0., 0., 0., 0., 0., 0., 0., 0., 0., 0., 2., 2., 2., 2., 2., 2., 2., 2.,\n",
       "         2., 2.],\n",
       "        [0., 0., 0., 0., 0., 0., 0., 0., 0., 0., 2., 2., 2., 2., 2., 2., 2., 2.,\n",
       "         2., 2.]], dtype=torch.float64)"
      ]
     },
     "execution_count": 157,
     "metadata": {},
     "output_type": "execute_result"
    }
   ],
   "source": [
    "yTorch"
   ]
  },
  {
   "cell_type": "code",
   "execution_count": 154,
   "id": "b1e57330-eaaf-438b-9dd1-05387d66fe55",
   "metadata": {},
   "outputs": [],
   "source": [
    "Y = Y * 2"
   ]
  },
  {
   "cell_type": "code",
   "execution_count": 156,
   "id": "c1571bca-5998-4f23-b0b1-3c9a1f366f8d",
   "metadata": {},
   "outputs": [
    {
     "data": {
      "text/plain": [
       "array([[0., 0., 0., 0., 0., 0., 0., 0., 0., 0., 2., 2., 2., 2., 2., 2.,\n",
       "        2., 2., 2., 2.],\n",
       "       [0., 0., 0., 0., 0., 0., 0., 0., 0., 0., 2., 2., 2., 2., 2., 2.,\n",
       "        2., 2., 2., 2.],\n",
       "       [0., 0., 0., 0., 0., 0., 0., 0., 0., 0., 2., 2., 2., 2., 2., 2.,\n",
       "        2., 2., 2., 2.],\n",
       "       [0., 0., 0., 0., 0., 0., 0., 0., 0., 0., 2., 2., 2., 2., 2., 2.,\n",
       "        2., 2., 2., 2.],\n",
       "       [0., 0., 0., 0., 0., 0., 0., 0., 0., 0., 2., 2., 2., 2., 2., 2.,\n",
       "        2., 2., 2., 2.],\n",
       "       [0., 0., 0., 0., 0., 0., 0., 0., 0., 0., 2., 2., 2., 2., 2., 2.,\n",
       "        2., 2., 2., 2.],\n",
       "       [0., 0., 0., 0., 0., 0., 0., 0., 0., 0., 2., 2., 2., 2., 2., 2.,\n",
       "        2., 2., 2., 2.],\n",
       "       [0., 0., 0., 0., 0., 0., 0., 0., 0., 0., 2., 2., 2., 2., 2., 2.,\n",
       "        2., 2., 2., 2.],\n",
       "       [0., 0., 0., 0., 0., 0., 0., 0., 0., 0., 2., 2., 2., 2., 2., 2.,\n",
       "        2., 2., 2., 2.],\n",
       "       [0., 0., 0., 0., 0., 0., 0., 0., 0., 0., 2., 2., 2., 2., 2., 2.,\n",
       "        2., 2., 2., 2.]])"
      ]
     },
     "execution_count": 156,
     "metadata": {},
     "output_type": "execute_result"
    }
   ],
   "source": [
    "Y"
   ]
  },
  {
   "cell_type": "code",
   "execution_count": 10,
   "id": "a8e184b6-0e0e-4c8c-9dfa-b92faf222449",
   "metadata": {},
   "outputs": [],
   "source": [
    "r = torch.rand(5,10)"
   ]
  },
  {
   "cell_type": "code",
   "execution_count": 11,
   "id": "c8c3caf7-d640-45d3-bc91-c759f6eb9bf5",
   "metadata": {},
   "outputs": [
    {
     "data": {
      "text/plain": [
       "tensor([[0.7302, 0.6091, 0.1549, 0.9017, 0.1234, 0.8782, 0.0391, 0.8252, 0.0432,\n",
       "         0.1410],\n",
       "        [0.5205, 0.8627, 0.4325, 0.9513, 0.7821, 0.6335, 0.5898, 0.4026, 0.9320,\n",
       "         0.6654],\n",
       "        [0.4595, 0.5178, 0.8663, 0.2911, 0.7448, 0.1995, 0.5466, 0.0338, 0.5519,\n",
       "         0.9863],\n",
       "        [0.5157, 0.6849, 0.8050, 0.6394, 0.1380, 0.7102, 0.9915, 0.2046, 0.5470,\n",
       "         0.7592],\n",
       "        [0.8816, 0.5947, 0.1256, 0.6725, 0.2499, 0.7425, 0.6869, 0.1677, 0.5164,\n",
       "         0.1793]])"
      ]
     },
     "execution_count": 11,
     "metadata": {},
     "output_type": "execute_result"
    }
   ],
   "source": [
    "r"
   ]
  },
  {
   "cell_type": "code",
   "execution_count": 18,
   "id": "4e76dd9a-8e33-46e2-8de6-a8a064a4704b",
   "metadata": {},
   "outputs": [],
   "source": [
    "s = nn.Softmax(dim=1)"
   ]
  },
  {
   "cell_type": "code",
   "execution_count": 21,
   "id": "48a2ea47-0850-46df-91ac-8e5f02034e28",
   "metadata": {},
   "outputs": [
    {
     "data": {
      "text/plain": [
       "tensor([1.0000, 1.0000, 1.0000, 1.0000, 1.0000])"
      ]
     },
     "execution_count": 21,
     "metadata": {},
     "output_type": "execute_result"
    }
   ],
   "source": [
    "s(r).sum(1)"
   ]
  },
  {
   "cell_type": "code",
   "execution_count": null,
   "id": "482c4d80-2a56-429d-8ec4-cd97e4a7ad76",
   "metadata": {},
   "outputs": [],
   "source": []
  }
 ],
 "metadata": {
  "kernelspec": {
   "display_name": "Python 3 (ipykernel)",
   "language": "python",
   "name": "python3"
  },
  "language_info": {
   "codemirror_mode": {
    "name": "ipython",
    "version": 3
   },
   "file_extension": ".py",
   "mimetype": "text/x-python",
   "name": "python",
   "nbconvert_exporter": "python",
   "pygments_lexer": "ipython3",
   "version": "3.12.7"
  }
 },
 "nbformat": 4,
 "nbformat_minor": 5
}
