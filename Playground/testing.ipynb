{
 "cells": [
  {
   "cell_type": "code",
   "execution_count": 1,
   "id": "3137c29c-c8f1-4bce-bce2-1b56dc59f1f7",
   "metadata": {},
   "outputs": [],
   "source": [
    "import numpy as np"
   ]
  },
  {
   "cell_type": "code",
   "execution_count": 25,
   "id": "d9ec9751-986e-4404-bc1c-de29a095f74c",
   "metadata": {},
   "outputs": [],
   "source": [
    "m = np.zeros(8, dtype = int).reshape(4,2)"
   ]
  },
  {
   "cell_type": "code",
   "execution_count": 28,
   "id": "0507f990-ff51-4c0c-9d33-8b81ad738c02",
   "metadata": {},
   "outputs": [],
   "source": [
    "m[0:2, :] = np.append(np.array([[1],[0]]), np.array([[1],[0]]), axis=1)"
   ]
  },
  {
   "cell_type": "code",
   "execution_count": 29,
   "id": "cd744d48-e888-491c-91c0-86f7150f5545",
   "metadata": {},
   "outputs": [
    {
     "data": {
      "text/plain": [
       "array([[1, 1],\n",
       "       [0, 0],\n",
       "       [0, 0],\n",
       "       [0, 0]])"
      ]
     },
     "execution_count": 29,
     "metadata": {},
     "output_type": "execute_result"
    }
   ],
   "source": [
    "m"
   ]
  },
  {
   "cell_type": "code",
   "execution_count": 24,
   "id": "ce215f11-c373-416c-aa20-932da0c2bd4a",
   "metadata": {},
   "outputs": [
    {
     "data": {
      "text/plain": [
       "array([10,  0,  0, 10,  4,  5,  6,  7])"
      ]
     },
     "execution_count": 24,
     "metadata": {},
     "output_type": "execute_result"
    }
   ],
   "source": [
    "m.flatten()"
   ]
  },
  {
   "cell_type": "code",
   "execution_count": 21,
   "id": "d311c892-cc1a-4dfd-ac2f-fdc2e031c926",
   "metadata": {},
   "outputs": [],
   "source": [
    "j = np.zeros(8, dtype = int).reshape(4,2)"
   ]
  },
  {
   "cell_type": "code",
   "execution_count": 22,
   "id": "414b72e8-9731-4109-a358-b0bda03b89a3",
   "metadata": {},
   "outputs": [],
   "source": [
    "j[0,:] = m[0,:]\n",
    "j[3,:] = m[3,:]"
   ]
  },
  {
   "cell_type": "code",
   "execution_count": 23,
   "id": "20dc99f8-81cd-4e2b-bae6-4487012cfba6",
   "metadata": {},
   "outputs": [
    {
     "data": {
      "text/plain": [
       "array([[10,  0],\n",
       "       [ 0,  0],\n",
       "       [ 0,  0],\n",
       "       [ 6,  7]])"
      ]
     },
     "execution_count": 23,
     "metadata": {},
     "output_type": "execute_result"
    }
   ],
   "source": [
    "j"
   ]
  },
  {
   "cell_type": "code",
   "execution_count": 7,
   "id": "e4a2037f-1cc0-48f1-b007-278fffa9cfa4",
   "metadata": {},
   "outputs": [
    {
     "data": {
      "text/plain": [
       "array([0., 0., 0., 0., 0., 0., 0., 0., 0., 0., 0., 0., 0., 0., 0., 0., 0.,\n",
       "       0., 0., 0., 0., 0., 0., 0., 0., 0., 0., 0., 0., 0., 0., 0., 0., 0.,\n",
       "       0., 0., 0., 0., 0., 0., 0., 0., 0., 0., 0., 0., 0., 0., 0., 0., 0.,\n",
       "       0., 0., 0., 0., 0., 0., 0., 0., 0., 0., 0., 0., 0., 0., 0., 0., 0.,\n",
       "       0., 0., 0., 0., 0., 0., 0., 0., 0., 0., 0., 0., 0., 0., 0., 0., 0.,\n",
       "       0., 0., 0., 0., 0., 0., 0., 0., 0., 0., 0.])"
      ]
     },
     "execution_count": 7,
     "metadata": {},
     "output_type": "execute_result"
    }
   ],
   "source": [
    "np.zeros((96))"
   ]
  },
  {
   "cell_type": "code",
   "execution_count": 45,
   "id": "c6df1266-6caf-4199-b4dd-08b7385f0f51",
   "metadata": {},
   "outputs": [],
   "source": [
    "z = np.zeros(20)\n",
    "y = np.zeros(20)\n",
    "z[0] = 1"
   ]
  },
  {
   "cell_type": "code",
   "execution_count": 46,
   "id": "a6c3dd71-21b7-45e6-bf50-c01b5b0fcf86",
   "metadata": {},
   "outputs": [
    {
     "name": "stdout",
     "output_type": "stream",
     "text": [
      "equal\n"
     ]
    }
   ],
   "source": [
    "if not np.array_equal(y, z):\n",
    "    print('equal')"
   ]
  },
  {
   "cell_type": "code",
   "execution_count": 37,
   "id": "af9ce9ea-afb5-4a59-9efb-ee88a1378e5e",
   "metadata": {},
   "outputs": [
    {
     "data": {
      "text/plain": [
       "array([1., 0., 0., 0., 0., 0., 0., 0., 0., 0., 0., 0., 0., 0., 0., 0., 0.,\n",
       "       0., 0., 0.])"
      ]
     },
     "execution_count": 37,
     "metadata": {},
     "output_type": "execute_result"
    }
   ],
   "source": [
    "z"
   ]
  },
  {
   "cell_type": "code",
   "execution_count": 38,
   "id": "0452cc37-dd8c-4859-b809-098bd90636fc",
   "metadata": {},
   "outputs": [
    {
     "data": {
      "text/plain": [
       "array([0., 0., 0., 0., 0., 0., 0., 0., 0., 0., 0., 0., 0., 0., 0., 0., 0.,\n",
       "       0., 0., 0.])"
      ]
     },
     "execution_count": 38,
     "metadata": {},
     "output_type": "execute_result"
    }
   ],
   "source": [
    "y"
   ]
  },
  {
   "cell_type": "code",
   "execution_count": null,
   "id": "bd625a07-be6c-4c12-9805-dd7b3ddfb97c",
   "metadata": {},
   "outputs": [],
   "source": []
  }
 ],
 "metadata": {
  "kernelspec": {
   "display_name": "Python 3 (ipykernel)",
   "language": "python",
   "name": "python3"
  },
  "language_info": {
   "codemirror_mode": {
    "name": "ipython",
    "version": 3
   },
   "file_extension": ".py",
   "mimetype": "text/x-python",
   "name": "python",
   "nbconvert_exporter": "python",
   "pygments_lexer": "ipython3",
   "version": "3.12.7"
  }
 },
 "nbformat": 4,
 "nbformat_minor": 5
}
