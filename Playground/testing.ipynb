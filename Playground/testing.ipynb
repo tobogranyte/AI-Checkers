{
 "cells": [
  {
   "cell_type": "code",
   "execution_count": 103,
   "id": "3137c29c-c8f1-4bce-bce2-1b56dc59f1f7",
   "metadata": {},
   "outputs": [],
   "source": [
    "import torch\n",
    "import torch.nn as nn\n",
    "import matplotlib.pyplot as plt\n",
    "import os\n",
    "import numpy as np\n"
   ]
  },
  {
   "cell_type": "code",
   "execution_count": 104,
   "id": "0507f990-ff51-4c0c-9d33-8b81ad738c02",
   "metadata": {},
   "outputs": [],
   "source": [
    "class PT(nn.Module):\n",
    "\n",
    "    def __init__(self):\n",
    "        super().__init__()\n",
    "        self.batch_num = 0\n",
    "        self.layers_dims = [397, 1024, 512, 256, 128, 96] #  5-layer model\n",
    "        self.learning_rate = 0.001\n",
    "        checkpoint = False\n",
    "        self.device = torch.device(\"cuda\" if torch.cuda.is_available() else \"cpu\")\n",
    "        print(self.device)\n",
    "        layers = []\n",
    "        for n in range(len(self.layers_dims) - 2):\n",
    "            layers.append(nn.Linear(self.layers_dims[n], self.layers_dims[n+1]))\n",
    "            layers.append(nn.ReLU())\n",
    "        layers.append(nn.Linear(self.layers_dims[n+1], self.layers_dims[n+2]))\n",
    "        layers.append(nn.Softmax(dim=1))\n",
    "        self.model = nn.Sequential(*layers)\n",
    "        optimizer = torch.optim.AdamW(self.model.parameters(), lr=self.learning_rate)\n",
    "        available = self.check_for_params()\n",
    "        if available:\n",
    "            if input(\"Start from saved?\") == \"Y\":\n",
    "                # Restore variables from disk.\n",
    "                self.model.load_state_dict(torch.load(\"Torch/model_weights.pth\"))\n",
    "                print(\"Session restored!\")\n",
    "                if input(\"Make checkpoint from saved?\") == \"Y\":\n",
    "                    name = input(\"Checkpoint name:\")\n",
    "                    self.save_obj(name)\n",
    "            else:\n",
    "                if input(\"Start from checkpoint?\") == \"Y\":\n",
    "                    while checkpoint == False and name != 's':\n",
    "                        name = input(\"Checkpoint name [s = skip]:\")\n",
    "                        if name != \"s\":\n",
    "                            self.load_checkpoint(name)\n",
    "                        else:\n",
    "                            print(\"Using initialized parameters.\")\n",
    "                else:\n",
    "                    print(\"Using initialized parameters.\")\n",
    "        else:\n",
    "            print(\"Using initialized parameters.\")\n",
    "        if input(\"Dice roll or maximize?\") == \"M\":\n",
    "            self.move_type = \"M\"\n",
    "        else:\n",
    "            self.move_type = \"R\"\n",
    "    #\t\tif input(\"Gradient check?\") == \"Y\":\n",
    "    #\t\t\tself.plot_activations()\n",
    "    #\t\t\tself.check_gradients()\n",
    "    #\t\t\tinput(\"Paused.\")\n",
    "        self.initialize_training_batch()\n",
    "        self.legal_means = []\n",
    "        self.illegal_means = []\n",
    "        self.trainings = 0\n",
    "        self.apply(self._init_weights)\n",
    "        self.activations = {}  # Dictionary to store activations\n",
    "        self.hook_handles = []  # List to store hook handles\n",
    "        self.model = self.model.to(self.device)\n",
    "    \n",
    "    \n",
    "    def _init_weights(self, module):\n",
    "        if isinstance(module, nn.Linear):\n",
    "            torch.nn.init.xavier_uniform_(module.weight)\n",
    "            if module.bias is not None:\n",
    "                torch.nn.init.zeros_(module.bias)\n",
    "    \n",
    "    def add_hooks(self):\n",
    "        # Register hooks and store handles\n",
    "        for name, layer in self.named_modules():\n",
    "            handle = layer.register_forward_hook(self._save_activation(name))\n",
    "            self.hook_handles.append(handle)\n",
    "    \n",
    "    def remove_hooks(self):\n",
    "        # Remove all hooks using stored handles\n",
    "        for handle in self.hook_handles:\n",
    "            handle.remove()\n",
    "        self.hook_handles.clear()  # Clear the list after removal\n",
    "    \n",
    "    def forward_pass(self, x):\n",
    "        x = self.convert(x)\n",
    "        x = x.to(self.device)\n",
    "        with torch.no_grad():\n",
    "            x = self(x)\n",
    "        x = self.deconvert(x)\n",
    "        return x\n",
    "    \n",
    "    def forward(self, x, y=None):\n",
    "        x = self.model(x)\n",
    "        return x\n",
    "    \n",
    "    def generate_move(self, AL): # generate a move from a probabilities vector\n",
    "        choice = np.squeeze(np.random.choice(96, 1, p=AL.flatten()/np.sum(AL.flatten()))) # roll the dice and p b\n",
    "        one_hot_move = np.eye(96, dtype = 'int')[choice] #generate one-hot version\n",
    "        piece_number = int(np.argmax(one_hot_move)/8) # get the piece number that the move applies to\n",
    "        move = one_hot_move[(8 * piece_number):((8 * piece_number) + 8)] # generate the move for that piece\n",
    "    \n",
    "        return one_hot_move, piece_number, move\n",
    "    \n",
    "    def train_model(self, y, x, weights, illegal_masks):\n",
    "        \"\"\"\n",
    "        y: parallel set of unit-normalized legal move vectors to calculate cost.\n",
    "        x: parallel set of input vectors.\n",
    "        weights: parallel set of number of attempts at a move to weight the cost.\n",
    "        illegal_masks: parallel set of non-normalized legal move vectors\n",
    "        \"\"\"\n",
    "        params = {}\n",
    "        self.add_hooks()\n",
    "        self.batch_num += 1\n",
    "        x = self.convert(x)\n",
    "        x = x.to(self.device)\n",
    "        y = self.convert(y)\n",
    "        y = y.to(self.device)\n",
    "        weights = self.convert(weights)\n",
    "        weights = weights.to(self.device)\n",
    "        x = self(x)\n",
    "        cost = ((y - x) ** 2) * weights\n",
    "        cost = cost.mean()\n",
    "        self.optimizer.zero_grad(set_to_none=True)\n",
    "        cost.backward()\n",
    "        self.optimizer.step()\n",
    "    \n",
    "        return cost, params\n",
    "    \n",
    "    def _save_activation(self, name):\n",
    "        # Hook function to save activations\n",
    "        def hook(module, input, output):\n",
    "            layer_type = type(module).__name__\n",
    "            activation_name = f\"{name}_{layer_type}\"\n",
    "            self.activations[activation_name] = output.detach().cpu()\n",
    "        return hook\n",
    "\n",
    "    def get_relu_activations(self):\n",
    "        return [activation.numpy() for name, activation in self.activations.items() if '_ReLU' in name]\n",
    "    \n",
    "    def convert(self, x):\n",
    "        x = torch.from_numpy(np.array(x, dtype=np.float32)).transpose(0,1)\n",
    "        return x\n",
    "    \n",
    "    def deconvert(self, x):\n",
    "        if x.requires_grad:\n",
    "            x = x.transpose(0,1).detach().numpy().astype(np.float64)\n",
    "        else:\n",
    "            x = x.transpose(0,1).cpu().numpy().astype(np.float64)\n",
    "        return x\n",
    "    \n",
    "    def initialize_training_batch(self):\n",
    "        self.moves = []\n",
    "        self.illegal_masks = []\n",
    "        self.probabilities_batch = []\n",
    "        self.X_batch = []\n",
    "        self.attempts = [] # list with attempted (illegal) moves\n",
    "        #self.attempts_illegal_masks = [] # parallel list with illegal masks for those attempts\n",
    "        #self.attempts_probabilities = [] # parallel list with probability vectors for those attempts\n",
    "        #self.attempts_X_batch = [] # parallel list with board inputs for those attempts\n",
    "        self.num_attempts = 0 # total number of attempts to get to a legal move\n",
    "        self.num_attempts_batch = []\n",
    "    \n",
    "    def save_parameters(self):\n",
    "        self.save_obj(\"model_weights\")\n",
    "    \n",
    "    def save_obj(self, name):\n",
    "        torch.save(self.model.state_dict(), 'Torch/' + name + '.pth')\n",
    "    \n",
    "    \n",
    "    def check_for_params(self):\n",
    "        available = os.path.isfile(\"Torch/model_weights.pth\")\n",
    "    \n",
    "        return available\n",
    "    \n",
    "    def load_checkpoint(self, name):\n",
    "        try:\n",
    "            self.model.load_state_dict(torch.load('Torch/' + name + '.pth'))\n",
    "        except (OSError, IOError) as e:\n",
    "            checkpoint = False\n",
    "            print(\"Can't find that checkpoint...\")\n",
    "        if checkpoint != False:\n",
    "            print(\"Checkpoint \" + name + \".pth loaded!\")\n",
    "        return checkpoint\n",
    "    \n",
    "    def get_input_vector(self, board, color, jump_piece_number):\n",
    "        v = board.get_piece_arrays(color)\n",
    "        # if color == 'Red':\n",
    "            # v = board.red_home_view().flatten() # get the board state \n",
    "        # else:\n",
    "            # v = board.black_home_view().flatten()\n",
    "        # v = np.append(v, board.get_piece_vector(color))\n",
    "        if jump_piece_number != None:\n",
    "            j_vector = np.eye(12)[jump_piece_number]\n",
    "            jump = np.array([1])\n",
    "        else:\n",
    "            j_vector = np.zeros((12))\n",
    "            jump = np.array([0])\n",
    "        v = np.append(v, j_vector)\n",
    "        v = np.append(v, jump)\t\n",
    "        return v\n",
    "    \n",
    "    \n"
   ]
  },
  {
   "cell_type": "code",
   "execution_count": 99,
   "id": "cd744d48-e888-491c-91c0-86f7150f5545",
   "metadata": {},
   "outputs": [
    {
     "name": "stdout",
     "output_type": "stream",
     "text": [
      "cpu\n"
     ]
    },
    {
     "name": "stdin",
     "output_type": "stream",
     "text": [
      "Start from saved? n\n",
      "Start from checkpoint? n\n"
     ]
    },
    {
     "name": "stdout",
     "output_type": "stream",
     "text": [
      "Using initialized parameters.\n"
     ]
    },
    {
     "name": "stdin",
     "output_type": "stream",
     "text": [
      "Dice roll or maximize? R\n"
     ]
    }
   ],
   "source": [
    "network = PT()"
   ]
  },
  {
   "cell_type": "code",
   "execution_count": 100,
   "id": "ce215f11-c373-416c-aa20-932da0c2bd4a",
   "metadata": {},
   "outputs": [],
   "source": [
    "random = np.random.rand(397,50)\n",
    "X = np.where(random >= 0.5, 1, 0)"
   ]
  },
  {
   "cell_type": "code",
   "execution_count": 101,
   "id": "d311c892-cc1a-4dfd-ac2f-fdc2e031c926",
   "metadata": {},
   "outputs": [],
   "source": [
    "network.add_hooks()\n",
    "Y = network.forward_pass(X)"
   ]
  },
  {
   "cell_type": "code",
   "execution_count": 102,
   "id": "65fe8e97-4778-4732-bdd0-e168ef752f8a",
   "metadata": {},
   "outputs": [
    {
     "ename": "AttributeError",
     "evalue": "'PT' object has no attribute 'relu_activations'",
     "output_type": "error",
     "traceback": [
      "\u001b[0;31m---------------------------------------------------------------------------\u001b[0m",
      "\u001b[0;31mAttributeError\u001b[0m                            Traceback (most recent call last)",
      "Cell \u001b[0;32mIn[102], line 1\u001b[0m\n\u001b[0;32m----> 1\u001b[0m \u001b[38;5;28mprint\u001b[39m(\u001b[38;5;124m\"\u001b[39m\u001b[38;5;124mCaptured activations:\u001b[39m\u001b[38;5;124m\"\u001b[39m, \u001b[43mnetwork\u001b[49m\u001b[38;5;241;43m.\u001b[39;49m\u001b[43mrelu_activations\u001b[49m)\n\u001b[1;32m      2\u001b[0m \u001b[38;5;28mprint\u001b[39m(\u001b[38;5;28mlen\u001b[39m(network\u001b[38;5;241m.\u001b[39mrelu_activations))\n",
      "File \u001b[0;32m/Library/Frameworks/Python.framework/Versions/3.12/lib/python3.12/site-packages/torch/nn/modules/module.py:1688\u001b[0m, in \u001b[0;36mModule.__getattr__\u001b[0;34m(self, name)\u001b[0m\n\u001b[1;32m   1686\u001b[0m     \u001b[38;5;28;01mif\u001b[39;00m name \u001b[38;5;129;01min\u001b[39;00m modules:\n\u001b[1;32m   1687\u001b[0m         \u001b[38;5;28;01mreturn\u001b[39;00m modules[name]\n\u001b[0;32m-> 1688\u001b[0m \u001b[38;5;28;01mraise\u001b[39;00m \u001b[38;5;167;01mAttributeError\u001b[39;00m(\u001b[38;5;124mf\u001b[39m\u001b[38;5;124m\"\u001b[39m\u001b[38;5;124m'\u001b[39m\u001b[38;5;132;01m{\u001b[39;00m\u001b[38;5;28mtype\u001b[39m(\u001b[38;5;28mself\u001b[39m)\u001b[38;5;241m.\u001b[39m\u001b[38;5;18m__name__\u001b[39m\u001b[38;5;132;01m}\u001b[39;00m\u001b[38;5;124m'\u001b[39m\u001b[38;5;124m object has no attribute \u001b[39m\u001b[38;5;124m'\u001b[39m\u001b[38;5;132;01m{\u001b[39;00mname\u001b[38;5;132;01m}\u001b[39;00m\u001b[38;5;124m'\u001b[39m\u001b[38;5;124m\"\u001b[39m)\n",
      "\u001b[0;31mAttributeError\u001b[0m: 'PT' object has no attribute 'relu_activations'"
     ]
    }
   ],
   "source": [
    "print(\"Captured activations:\", network.relu_activations)\n",
    "print(len(network.relu_activations))"
   ]
  },
  {
   "cell_type": "code",
   "execution_count": 72,
   "id": "e3a44c41-63ac-4282-93e6-d7551b68e052",
   "metadata": {},
   "outputs": [],
   "source": [
    "network.save_parameters()"
   ]
  },
  {
   "cell_type": "code",
   "execution_count": 22,
   "id": "414b72e8-9731-4109-a358-b0bda03b89a3",
   "metadata": {},
   "outputs": [],
   "source": [
    "j[0,:] = m[0,:]\n",
    "j[3,:] = m[3,:]"
   ]
  },
  {
   "cell_type": "code",
   "execution_count": 23,
   "id": "20dc99f8-81cd-4e2b-bae6-4487012cfba6",
   "metadata": {},
   "outputs": [
    {
     "data": {
      "text/plain": [
       "array([[10,  0],\n",
       "       [ 0,  0],\n",
       "       [ 0,  0],\n",
       "       [ 6,  7]])"
      ]
     },
     "execution_count": 23,
     "metadata": {},
     "output_type": "execute_result"
    }
   ],
   "source": [
    "j"
   ]
  },
  {
   "cell_type": "code",
   "execution_count": 7,
   "id": "e4a2037f-1cc0-48f1-b007-278fffa9cfa4",
   "metadata": {},
   "outputs": [
    {
     "data": {
      "text/plain": [
       "array([0., 0., 0., 0., 0., 0., 0., 0., 0., 0., 0., 0., 0., 0., 0., 0., 0.,\n",
       "       0., 0., 0., 0., 0., 0., 0., 0., 0., 0., 0., 0., 0., 0., 0., 0., 0.,\n",
       "       0., 0., 0., 0., 0., 0., 0., 0., 0., 0., 0., 0., 0., 0., 0., 0., 0.,\n",
       "       0., 0., 0., 0., 0., 0., 0., 0., 0., 0., 0., 0., 0., 0., 0., 0., 0.,\n",
       "       0., 0., 0., 0., 0., 0., 0., 0., 0., 0., 0., 0., 0., 0., 0., 0., 0.,\n",
       "       0., 0., 0., 0., 0., 0., 0., 0., 0., 0., 0.])"
      ]
     },
     "execution_count": 7,
     "metadata": {},
     "output_type": "execute_result"
    }
   ],
   "source": [
    "np.zeros((96))"
   ]
  },
  {
   "cell_type": "code",
   "execution_count": 45,
   "id": "c6df1266-6caf-4199-b4dd-08b7385f0f51",
   "metadata": {},
   "outputs": [],
   "source": [
    "z = np.zeros(20)\n",
    "y = np.zeros(20)\n",
    "z[0] = 1"
   ]
  },
  {
   "cell_type": "code",
   "execution_count": 46,
   "id": "a6c3dd71-21b7-45e6-bf50-c01b5b0fcf86",
   "metadata": {},
   "outputs": [
    {
     "name": "stdout",
     "output_type": "stream",
     "text": [
      "equal\n"
     ]
    }
   ],
   "source": [
    "if not np.array_equal(y, z):\n",
    "    print('equal')"
   ]
  },
  {
   "cell_type": "code",
   "execution_count": 37,
   "id": "af9ce9ea-afb5-4a59-9efb-ee88a1378e5e",
   "metadata": {},
   "outputs": [
    {
     "data": {
      "text/plain": [
       "array([1., 0., 0., 0., 0., 0., 0., 0., 0., 0., 0., 0., 0., 0., 0., 0., 0.,\n",
       "       0., 0., 0.])"
      ]
     },
     "execution_count": 37,
     "metadata": {},
     "output_type": "execute_result"
    }
   ],
   "source": [
    "z"
   ]
  },
  {
   "cell_type": "code",
   "execution_count": 38,
   "id": "0452cc37-dd8c-4859-b809-098bd90636fc",
   "metadata": {},
   "outputs": [
    {
     "data": {
      "text/plain": [
       "array([0., 0., 0., 0., 0., 0., 0., 0., 0., 0., 0., 0., 0., 0., 0., 0., 0.,\n",
       "       0., 0., 0.])"
      ]
     },
     "execution_count": 38,
     "metadata": {},
     "output_type": "execute_result"
    }
   ],
   "source": [
    "y"
   ]
  },
  {
   "cell_type": "code",
   "execution_count": 48,
   "id": "bd625a07-be6c-4c12-9805-dd7b3ddfb97c",
   "metadata": {},
   "outputs": [],
   "source": [
    "layers_dims = [397, 1024, 512, 256, 128, 96]"
   ]
  },
  {
   "cell_type": "code",
   "execution_count": 52,
   "id": "98fa1c6a-40bd-4f3b-82b5-125e3e16aff6",
   "metadata": {},
   "outputs": [
    {
     "data": {
      "text/plain": [
       "<enumerate at 0x10f8a3600>"
      ]
     },
     "execution_count": 52,
     "metadata": {},
     "output_type": "execute_result"
    }
   ],
   "source": [
    "for l in enumerate(layers_dims):\n",
    "    print(l)"
   ]
  },
  {
   "cell_type": "code",
   "execution_count": 123,
   "id": "ce5a22e8-3f33-4b85-91cf-9c85dfc27632",
   "metadata": {},
   "outputs": [],
   "source": [
    "L = 5"
   ]
  },
  {
   "cell_type": "code",
   "execution_count": 124,
   "id": "a5d51cf7-60cd-4022-a57f-a594e02a4888",
   "metadata": {},
   "outputs": [
    {
     "name": "stdout",
     "output_type": "stream",
     "text": [
      "1\n",
      "2\n",
      "3\n",
      "4\n"
     ]
    }
   ],
   "source": [
    "for l in range (1, L):\n",
    "    print(l)"
   ]
  },
  {
   "cell_type": "code",
   "execution_count": 129,
   "id": "e47f6caa-3f90-4fee-89e0-a459f4fb8ee9",
   "metadata": {},
   "outputs": [],
   "source": [
    "red_parallel = np.zeros((10,10))\n",
    "red_parallel_2 =np.ones((10,10))"
   ]
  },
  {
   "cell_type": "code",
   "execution_count": 127,
   "id": "786aec3e-3abf-4565-9961-881e128855a0",
   "metadata": {},
   "outputs": [
    {
     "data": {
      "text/plain": [
       "array([[0., 0., 0., 0., 0., 0., 0., 0., 0., 0.],\n",
       "       [0., 0., 0., 0., 0., 0., 0., 0., 0., 0.],\n",
       "       [0., 0., 0., 0., 0., 0., 0., 0., 0., 0.],\n",
       "       [0., 0., 0., 0., 0., 0., 0., 0., 0., 0.],\n",
       "       [0., 0., 0., 0., 0., 0., 0., 0., 0., 0.],\n",
       "       [0., 0., 0., 0., 0., 0., 0., 0., 0., 0.],\n",
       "       [0., 0., 0., 0., 0., 0., 0., 0., 0., 0.],\n",
       "       [0., 0., 0., 0., 0., 0., 0., 0., 0., 0.],\n",
       "       [0., 0., 0., 0., 0., 0., 0., 0., 0., 0.],\n",
       "       [0., 0., 0., 0., 0., 0., 0., 0., 0., 0.]])"
      ]
     },
     "execution_count": 127,
     "metadata": {},
     "output_type": "execute_result"
    }
   ],
   "source": [
    "red_parallel"
   ]
  },
  {
   "cell_type": "code",
   "execution_count": 128,
   "id": "d8977fdd-d930-452a-b19c-26f0b61e1df9",
   "metadata": {},
   "outputs": [],
   "source": [
    "red_parallel_batch = []"
   ]
  },
  {
   "cell_type": "code",
   "execution_count": 130,
   "id": "25dc3d34-6db0-4c27-9986-49ded033b9b8",
   "metadata": {},
   "outputs": [
    {
     "data": {
      "text/plain": [
       "[array([[0., 0., 0., 0., 0., 0., 0., 0., 0., 0.],\n",
       "        [0., 0., 0., 0., 0., 0., 0., 0., 0., 0.],\n",
       "        [0., 0., 0., 0., 0., 0., 0., 0., 0., 0.],\n",
       "        [0., 0., 0., 0., 0., 0., 0., 0., 0., 0.],\n",
       "        [0., 0., 0., 0., 0., 0., 0., 0., 0., 0.],\n",
       "        [0., 0., 0., 0., 0., 0., 0., 0., 0., 0.],\n",
       "        [0., 0., 0., 0., 0., 0., 0., 0., 0., 0.],\n",
       "        [0., 0., 0., 0., 0., 0., 0., 0., 0., 0.],\n",
       "        [0., 0., 0., 0., 0., 0., 0., 0., 0., 0.],\n",
       "        [0., 0., 0., 0., 0., 0., 0., 0., 0., 0.]]),\n",
       " array([[1., 1., 1., 1., 1., 1., 1., 1., 1., 1.],\n",
       "        [1., 1., 1., 1., 1., 1., 1., 1., 1., 1.],\n",
       "        [1., 1., 1., 1., 1., 1., 1., 1., 1., 1.],\n",
       "        [1., 1., 1., 1., 1., 1., 1., 1., 1., 1.],\n",
       "        [1., 1., 1., 1., 1., 1., 1., 1., 1., 1.],\n",
       "        [1., 1., 1., 1., 1., 1., 1., 1., 1., 1.],\n",
       "        [1., 1., 1., 1., 1., 1., 1., 1., 1., 1.],\n",
       "        [1., 1., 1., 1., 1., 1., 1., 1., 1., 1.],\n",
       "        [1., 1., 1., 1., 1., 1., 1., 1., 1., 1.],\n",
       "        [1., 1., 1., 1., 1., 1., 1., 1., 1., 1.]])]"
      ]
     },
     "execution_count": 130,
     "metadata": {},
     "output_type": "execute_result"
    }
   ],
   "source": [
    "red_parallel_batch.append(red_parallel)\n",
    "red_parallel_batch.append(red_parallel_2)\n",
    "red_parallel_batch"
   ]
  },
  {
   "cell_type": "code",
   "execution_count": 147,
   "id": "8b63ef19-12c3-4a4d-a667-6707aeb4aa8f",
   "metadata": {},
   "outputs": [],
   "source": [
    "Y = np.hstack(red_parallel_batch)"
   ]
  },
  {
   "cell_type": "code",
   "execution_count": 148,
   "id": "08bf7830-509c-45cb-9bc2-c8da2c4efd23",
   "metadata": {},
   "outputs": [
    {
     "name": "stdout",
     "output_type": "stream",
     "text": [
      "[[0. 0. 0. 0. 0. 0. 0. 0. 0. 0. 1. 1. 1. 1. 1. 1. 1. 1. 1. 1.]\n",
      " [0. 0. 0. 0. 0. 0. 0. 0. 0. 0. 1. 1. 1. 1. 1. 1. 1. 1. 1. 1.]\n",
      " [0. 0. 0. 0. 0. 0. 0. 0. 0. 0. 1. 1. 1. 1. 1. 1. 1. 1. 1. 1.]\n",
      " [0. 0. 0. 0. 0. 0. 0. 0. 0. 0. 1. 1. 1. 1. 1. 1. 1. 1. 1. 1.]\n",
      " [0. 0. 0. 0. 0. 0. 0. 0. 0. 0. 1. 1. 1. 1. 1. 1. 1. 1. 1. 1.]\n",
      " [0. 0. 0. 0. 0. 0. 0. 0. 0. 0. 1. 1. 1. 1. 1. 1. 1. 1. 1. 1.]\n",
      " [0. 0. 0. 0. 0. 0. 0. 0. 0. 0. 1. 1. 1. 1. 1. 1. 1. 1. 1. 1.]\n",
      " [0. 0. 0. 0. 0. 0. 0. 0. 0. 0. 1. 1. 1. 1. 1. 1. 1. 1. 1. 1.]\n",
      " [0. 0. 0. 0. 0. 0. 0. 0. 0. 0. 1. 1. 1. 1. 1. 1. 1. 1. 1. 1.]\n",
      " [0. 0. 0. 0. 0. 0. 0. 0. 0. 0. 1. 1. 1. 1. 1. 1. 1. 1. 1. 1.]]\n"
     ]
    }
   ],
   "source": [
    "print(Y)"
   ]
  },
  {
   "cell_type": "code",
   "execution_count": 149,
   "id": "6d8f75fe-cac8-462f-a1c1-21450b6f1c09",
   "metadata": {},
   "outputs": [],
   "source": [
    "yTorch = torch.from_numpy(Y)"
   ]
  },
  {
   "cell_type": "code",
   "execution_count": 151,
   "id": "c1d3c2dd-87ac-4a5c-a89f-e13463ac609d",
   "metadata": {},
   "outputs": [],
   "source": [
    "yTorch = yTorch * 2"
   ]
  },
  {
   "cell_type": "code",
   "execution_count": 157,
   "id": "a5402305-7d9d-46aa-9e46-c8e1bda4ac1e",
   "metadata": {},
   "outputs": [
    {
     "data": {
      "text/plain": [
       "tensor([[0., 0., 0., 0., 0., 0., 0., 0., 0., 0., 2., 2., 2., 2., 2., 2., 2., 2.,\n",
       "         2., 2.],\n",
       "        [0., 0., 0., 0., 0., 0., 0., 0., 0., 0., 2., 2., 2., 2., 2., 2., 2., 2.,\n",
       "         2., 2.],\n",
       "        [0., 0., 0., 0., 0., 0., 0., 0., 0., 0., 2., 2., 2., 2., 2., 2., 2., 2.,\n",
       "         2., 2.],\n",
       "        [0., 0., 0., 0., 0., 0., 0., 0., 0., 0., 2., 2., 2., 2., 2., 2., 2., 2.,\n",
       "         2., 2.],\n",
       "        [0., 0., 0., 0., 0., 0., 0., 0., 0., 0., 2., 2., 2., 2., 2., 2., 2., 2.,\n",
       "         2., 2.],\n",
       "        [0., 0., 0., 0., 0., 0., 0., 0., 0., 0., 2., 2., 2., 2., 2., 2., 2., 2.,\n",
       "         2., 2.],\n",
       "        [0., 0., 0., 0., 0., 0., 0., 0., 0., 0., 2., 2., 2., 2., 2., 2., 2., 2.,\n",
       "         2., 2.],\n",
       "        [0., 0., 0., 0., 0., 0., 0., 0., 0., 0., 2., 2., 2., 2., 2., 2., 2., 2.,\n",
       "         2., 2.],\n",
       "        [0., 0., 0., 0., 0., 0., 0., 0., 0., 0., 2., 2., 2., 2., 2., 2., 2., 2.,\n",
       "         2., 2.],\n",
       "        [0., 0., 0., 0., 0., 0., 0., 0., 0., 0., 2., 2., 2., 2., 2., 2., 2., 2.,\n",
       "         2., 2.]], dtype=torch.float64)"
      ]
     },
     "execution_count": 157,
     "metadata": {},
     "output_type": "execute_result"
    }
   ],
   "source": [
    "yTorch"
   ]
  },
  {
   "cell_type": "code",
   "execution_count": 154,
   "id": "b1e57330-eaaf-438b-9dd1-05387d66fe55",
   "metadata": {},
   "outputs": [],
   "source": [
    "Y = Y * 2"
   ]
  },
  {
   "cell_type": "code",
   "execution_count": 156,
   "id": "c1571bca-5998-4f23-b0b1-3c9a1f366f8d",
   "metadata": {},
   "outputs": [
    {
     "data": {
      "text/plain": [
       "array([[0., 0., 0., 0., 0., 0., 0., 0., 0., 0., 2., 2., 2., 2., 2., 2.,\n",
       "        2., 2., 2., 2.],\n",
       "       [0., 0., 0., 0., 0., 0., 0., 0., 0., 0., 2., 2., 2., 2., 2., 2.,\n",
       "        2., 2., 2., 2.],\n",
       "       [0., 0., 0., 0., 0., 0., 0., 0., 0., 0., 2., 2., 2., 2., 2., 2.,\n",
       "        2., 2., 2., 2.],\n",
       "       [0., 0., 0., 0., 0., 0., 0., 0., 0., 0., 2., 2., 2., 2., 2., 2.,\n",
       "        2., 2., 2., 2.],\n",
       "       [0., 0., 0., 0., 0., 0., 0., 0., 0., 0., 2., 2., 2., 2., 2., 2.,\n",
       "        2., 2., 2., 2.],\n",
       "       [0., 0., 0., 0., 0., 0., 0., 0., 0., 0., 2., 2., 2., 2., 2., 2.,\n",
       "        2., 2., 2., 2.],\n",
       "       [0., 0., 0., 0., 0., 0., 0., 0., 0., 0., 2., 2., 2., 2., 2., 2.,\n",
       "        2., 2., 2., 2.],\n",
       "       [0., 0., 0., 0., 0., 0., 0., 0., 0., 0., 2., 2., 2., 2., 2., 2.,\n",
       "        2., 2., 2., 2.],\n",
       "       [0., 0., 0., 0., 0., 0., 0., 0., 0., 0., 2., 2., 2., 2., 2., 2.,\n",
       "        2., 2., 2., 2.],\n",
       "       [0., 0., 0., 0., 0., 0., 0., 0., 0., 0., 2., 2., 2., 2., 2., 2.,\n",
       "        2., 2., 2., 2.]])"
      ]
     },
     "execution_count": 156,
     "metadata": {},
     "output_type": "execute_result"
    }
   ],
   "source": [
    "Y"
   ]
  },
  {
   "cell_type": "code",
   "execution_count": 10,
   "id": "a8e184b6-0e0e-4c8c-9dfa-b92faf222449",
   "metadata": {},
   "outputs": [],
   "source": [
    "r = torch.rand(5,10)"
   ]
  },
  {
   "cell_type": "code",
   "execution_count": 11,
   "id": "c8c3caf7-d640-45d3-bc91-c759f6eb9bf5",
   "metadata": {},
   "outputs": [
    {
     "data": {
      "text/plain": [
       "tensor([[0.7302, 0.6091, 0.1549, 0.9017, 0.1234, 0.8782, 0.0391, 0.8252, 0.0432,\n",
       "         0.1410],\n",
       "        [0.5205, 0.8627, 0.4325, 0.9513, 0.7821, 0.6335, 0.5898, 0.4026, 0.9320,\n",
       "         0.6654],\n",
       "        [0.4595, 0.5178, 0.8663, 0.2911, 0.7448, 0.1995, 0.5466, 0.0338, 0.5519,\n",
       "         0.9863],\n",
       "        [0.5157, 0.6849, 0.8050, 0.6394, 0.1380, 0.7102, 0.9915, 0.2046, 0.5470,\n",
       "         0.7592],\n",
       "        [0.8816, 0.5947, 0.1256, 0.6725, 0.2499, 0.7425, 0.6869, 0.1677, 0.5164,\n",
       "         0.1793]])"
      ]
     },
     "execution_count": 11,
     "metadata": {},
     "output_type": "execute_result"
    }
   ],
   "source": [
    "r"
   ]
  },
  {
   "cell_type": "code",
   "execution_count": 18,
   "id": "4e76dd9a-8e33-46e2-8de6-a8a064a4704b",
   "metadata": {},
   "outputs": [],
   "source": [
    "s = nn.Softmax(dim=1)"
   ]
  },
  {
   "cell_type": "code",
   "execution_count": 21,
   "id": "48a2ea47-0850-46df-91ac-8e5f02034e28",
   "metadata": {},
   "outputs": [
    {
     "data": {
      "text/plain": [
       "tensor([1.0000, 1.0000, 1.0000, 1.0000, 1.0000])"
      ]
     },
     "execution_count": 21,
     "metadata": {},
     "output_type": "execute_result"
    }
   ],
   "source": [
    "s(r).sum(1)"
   ]
  },
  {
   "cell_type": "code",
   "execution_count": null,
   "id": "482c4d80-2a56-429d-8ec4-cd97e4a7ad76",
   "metadata": {},
   "outputs": [],
   "source": []
  }
 ],
 "metadata": {
  "kernelspec": {
   "display_name": "Python 3 (ipykernel)",
   "language": "python",
   "name": "python3"
  },
  "language_info": {
   "codemirror_mode": {
    "name": "ipython",
    "version": 3
   },
   "file_extension": ".py",
   "mimetype": "text/x-python",
   "name": "python",
   "nbconvert_exporter": "python",
   "pygments_lexer": "ipython3",
   "version": "3.12.7"
  }
 },
 "nbformat": 4,
 "nbformat_minor": 5
}
