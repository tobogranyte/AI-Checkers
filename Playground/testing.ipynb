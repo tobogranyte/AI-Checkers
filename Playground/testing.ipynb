{
 "cells": [
  {
   "cell_type": "code",
   "execution_count": 53,
   "id": "3137c29c-c8f1-4bce-bce2-1b56dc59f1f7",
   "metadata": {},
   "outputs": [],
   "source": [
    "import torch\n",
    "import torch.nn as nn"
   ]
  },
  {
   "cell_type": "code",
   "execution_count": 56,
   "id": "d9ec9751-986e-4404-bc1c-de29a095f74c",
   "metadata": {},
   "outputs": [],
   "source": [
    "class Torch:\n",
    "    def __init__(self):\n",
    "        self.batch_num = 0\n",
    "        self.layers_dims = [397, 1024, 512, 256, 128, 96] #  5-layer model\n",
    "        self.learning_rate = 0.001\n",
    "        checkpoint = False\n",
    "        self.network = Network(layers_dims)"
   ]
  },
  {
   "cell_type": "code",
   "execution_count": 209,
   "id": "0507f990-ff51-4c0c-9d33-8b81ad738c02",
   "metadata": {},
   "outputs": [],
   "source": [
    "class Network(nn.Module):\n",
    "    \n",
    "    def __init__(self, layers_dims):\n",
    "        super().__init__()\n",
    "        self.device = torch.device(\"cuda\" if torch.cuda.is_available() else \"cpu\")\n",
    "        print(self.device)\n",
    "        layers = []\n",
    "        for n in range(len(layers_dims) - 2):\n",
    "            layers.append(nn.Linear(layers_dims[n], layers_dims[n+1]))\n",
    "            layers.append(nn.ReLU())\n",
    "        layers.append(nn.Linear(layers_dims[n+1],layers_dims[n+2]))\n",
    "        layers.append(nn.Softmax())\n",
    "        self.model = nn.Sequential(*layers)\n",
    "        self.apply(self._init_weights)\n",
    "        self.activations = {}  # Dictionary to store activations\n",
    "        self.hook_handles = []  # List to store hook handles\n",
    "        self.model = self.model.to(self.device)\n",
    "\n",
    "\n",
    "    def _init_weights(self, module):\n",
    "        if isinstance(module, nn.Linear):\n",
    "            torch.nn.init.xavier_uniform_(module.weight)\n",
    "            if module.bias is not None:\n",
    "                torch.nn.init.zeros_(module.bias)\n",
    "\n",
    "    def add_hooks(self):\n",
    "        # Register hooks and store handles\n",
    "        for name, layer in self.named_modules():\n",
    "            handle = layer.register_forward_hook(self._save_activation(name))\n",
    "            self.hook_handles.append(handle)\n",
    "\n",
    "    def remove_hooks(self):\n",
    "        # Remove all hooks using stored handles\n",
    "        for handle in self.hook_handles:\n",
    "            handle.remove()\n",
    "        self.hook_handles.clear()  # Clear the list after removal\n",
    "\n",
    "    def forward(self, x, nograd = True):\n",
    "        x = self.convert(x)\n",
    "        x = x.to(self.device)\n",
    "        if nograd:\n",
    "            with torch.no_grad():\n",
    "                return self.model(x)\n",
    "        else:\n",
    "            return self.model(x)\n",
    "\n",
    "    def _save_activation(self, name):\n",
    "        # Hook function to save activations\n",
    "        def hook(model, input, output):\n",
    "            self.activations[name] = output.detach().cpu()\n",
    "        return hook\n",
    "\n",
    "    def convert(self, x):\n",
    "        x = torch.from_numpy(np.array(x, dtype=np.float32)).transpose(0,1)\n",
    "        return x\n",
    "    "
   ]
  },
  {
   "cell_type": "code",
   "execution_count": 210,
   "id": "cd744d48-e888-491c-91c0-86f7150f5545",
   "metadata": {},
   "outputs": [
    {
     "name": "stdout",
     "output_type": "stream",
     "text": [
      "cpu\n"
     ]
    }
   ],
   "source": [
    "network = Network(layers_dims)"
   ]
  },
  {
   "cell_type": "code",
   "execution_count": 211,
   "id": "ce215f11-c373-416c-aa20-932da0c2bd4a",
   "metadata": {},
   "outputs": [],
   "source": [
    "random = np.random.rand(397,50)\n",
    "X = np.where(random >= 0.5, 1, 0)"
   ]
  },
  {
   "cell_type": "code",
   "execution_count": 212,
   "id": "d311c892-cc1a-4dfd-ac2f-fdc2e031c926",
   "metadata": {},
   "outputs": [],
   "source": [
    "Y = network(X)"
   ]
  },
  {
   "cell_type": "code",
   "execution_count": 213,
   "id": "65fe8e97-4778-4732-bdd0-e168ef752f8a",
   "metadata": {},
   "outputs": [
    {
     "name": "stdout",
     "output_type": "stream",
     "text": [
      "Captured activations: {}\n"
     ]
    }
   ],
   "source": [
    "print(\"Captured activations:\", network.activations)"
   ]
  },
  {
   "cell_type": "code",
   "execution_count": 116,
   "id": "e3a44c41-63ac-4282-93e6-d7551b68e052",
   "metadata": {},
   "outputs": [
    {
     "name": "stdout",
     "output_type": "stream",
     "text": [
      "tensor([0.0089, 0.0120, 0.0126, 0.0111, 0.0095, 0.0138, 0.0088, 0.0080, 0.0107,\n",
      "        0.0102, 0.0088, 0.0080, 0.0097, 0.0077, 0.0100, 0.0152, 0.0105, 0.0119,\n",
      "        0.0112, 0.0094, 0.0093, 0.0140, 0.0121, 0.0118, 0.0097, 0.0134, 0.0131,\n",
      "        0.0114, 0.0114, 0.0139, 0.0095, 0.0086, 0.0115, 0.0119, 0.0107, 0.0112,\n",
      "        0.0120, 0.0089, 0.0096, 0.0084, 0.0119, 0.0073, 0.0096, 0.0100, 0.0121,\n",
      "        0.0095, 0.0074, 0.0101, 0.0089, 0.0094, 0.0111, 0.0088, 0.0114, 0.0086,\n",
      "        0.0107, 0.0096, 0.0102, 0.0071, 0.0081, 0.0156, 0.0085, 0.0115, 0.0069,\n",
      "        0.0079, 0.0083, 0.0093, 0.0085, 0.0104, 0.0089, 0.0103, 0.0103, 0.0132,\n",
      "        0.0133, 0.0117, 0.0069, 0.0097, 0.0092, 0.0114, 0.0094, 0.0153, 0.0105,\n",
      "        0.0067, 0.0136, 0.0095, 0.0100, 0.0097, 0.0072, 0.0152, 0.0136, 0.0086,\n",
      "        0.0100, 0.0130, 0.0074, 0.0131, 0.0112, 0.0123],\n",
      "       grad_fn=<SelectBackward0>)\n"
     ]
    }
   ],
   "source": [
    "print(Y[0])"
   ]
  },
  {
   "cell_type": "code",
   "execution_count": 22,
   "id": "414b72e8-9731-4109-a358-b0bda03b89a3",
   "metadata": {},
   "outputs": [],
   "source": [
    "j[0,:] = m[0,:]\n",
    "j[3,:] = m[3,:]"
   ]
  },
  {
   "cell_type": "code",
   "execution_count": 23,
   "id": "20dc99f8-81cd-4e2b-bae6-4487012cfba6",
   "metadata": {},
   "outputs": [
    {
     "data": {
      "text/plain": [
       "array([[10,  0],\n",
       "       [ 0,  0],\n",
       "       [ 0,  0],\n",
       "       [ 6,  7]])"
      ]
     },
     "execution_count": 23,
     "metadata": {},
     "output_type": "execute_result"
    }
   ],
   "source": [
    "j"
   ]
  },
  {
   "cell_type": "code",
   "execution_count": 7,
   "id": "e4a2037f-1cc0-48f1-b007-278fffa9cfa4",
   "metadata": {},
   "outputs": [
    {
     "data": {
      "text/plain": [
       "array([0., 0., 0., 0., 0., 0., 0., 0., 0., 0., 0., 0., 0., 0., 0., 0., 0.,\n",
       "       0., 0., 0., 0., 0., 0., 0., 0., 0., 0., 0., 0., 0., 0., 0., 0., 0.,\n",
       "       0., 0., 0., 0., 0., 0., 0., 0., 0., 0., 0., 0., 0., 0., 0., 0., 0.,\n",
       "       0., 0., 0., 0., 0., 0., 0., 0., 0., 0., 0., 0., 0., 0., 0., 0., 0.,\n",
       "       0., 0., 0., 0., 0., 0., 0., 0., 0., 0., 0., 0., 0., 0., 0., 0., 0.,\n",
       "       0., 0., 0., 0., 0., 0., 0., 0., 0., 0., 0.])"
      ]
     },
     "execution_count": 7,
     "metadata": {},
     "output_type": "execute_result"
    }
   ],
   "source": [
    "np.zeros((96))"
   ]
  },
  {
   "cell_type": "code",
   "execution_count": 45,
   "id": "c6df1266-6caf-4199-b4dd-08b7385f0f51",
   "metadata": {},
   "outputs": [],
   "source": [
    "z = np.zeros(20)\n",
    "y = np.zeros(20)\n",
    "z[0] = 1"
   ]
  },
  {
   "cell_type": "code",
   "execution_count": 46,
   "id": "a6c3dd71-21b7-45e6-bf50-c01b5b0fcf86",
   "metadata": {},
   "outputs": [
    {
     "name": "stdout",
     "output_type": "stream",
     "text": [
      "equal\n"
     ]
    }
   ],
   "source": [
    "if not np.array_equal(y, z):\n",
    "    print('equal')"
   ]
  },
  {
   "cell_type": "code",
   "execution_count": 37,
   "id": "af9ce9ea-afb5-4a59-9efb-ee88a1378e5e",
   "metadata": {},
   "outputs": [
    {
     "data": {
      "text/plain": [
       "array([1., 0., 0., 0., 0., 0., 0., 0., 0., 0., 0., 0., 0., 0., 0., 0., 0.,\n",
       "       0., 0., 0.])"
      ]
     },
     "execution_count": 37,
     "metadata": {},
     "output_type": "execute_result"
    }
   ],
   "source": [
    "z"
   ]
  },
  {
   "cell_type": "code",
   "execution_count": 38,
   "id": "0452cc37-dd8c-4859-b809-098bd90636fc",
   "metadata": {},
   "outputs": [
    {
     "data": {
      "text/plain": [
       "array([0., 0., 0., 0., 0., 0., 0., 0., 0., 0., 0., 0., 0., 0., 0., 0., 0.,\n",
       "       0., 0., 0.])"
      ]
     },
     "execution_count": 38,
     "metadata": {},
     "output_type": "execute_result"
    }
   ],
   "source": [
    "y"
   ]
  },
  {
   "cell_type": "code",
   "execution_count": 48,
   "id": "bd625a07-be6c-4c12-9805-dd7b3ddfb97c",
   "metadata": {},
   "outputs": [],
   "source": [
    "layers_dims = [397, 1024, 512, 256, 128, 96]"
   ]
  },
  {
   "cell_type": "code",
   "execution_count": 52,
   "id": "98fa1c6a-40bd-4f3b-82b5-125e3e16aff6",
   "metadata": {},
   "outputs": [
    {
     "data": {
      "text/plain": [
       "<enumerate at 0x10f8a3600>"
      ]
     },
     "execution_count": 52,
     "metadata": {},
     "output_type": "execute_result"
    }
   ],
   "source": [
    "for l in enumerate(layers_dims):\n",
    "    print(l)"
   ]
  },
  {
   "cell_type": "code",
   "execution_count": 123,
   "id": "ce5a22e8-3f33-4b85-91cf-9c85dfc27632",
   "metadata": {},
   "outputs": [],
   "source": [
    "L = 5"
   ]
  },
  {
   "cell_type": "code",
   "execution_count": 124,
   "id": "a5d51cf7-60cd-4022-a57f-a594e02a4888",
   "metadata": {},
   "outputs": [
    {
     "name": "stdout",
     "output_type": "stream",
     "text": [
      "1\n",
      "2\n",
      "3\n",
      "4\n"
     ]
    }
   ],
   "source": [
    "for l in range (1, L):\n",
    "    print(l)"
   ]
  },
  {
   "cell_type": "code",
   "execution_count": 129,
   "id": "e47f6caa-3f90-4fee-89e0-a459f4fb8ee9",
   "metadata": {},
   "outputs": [],
   "source": [
    "red_parallel = np.zeros((10,10))\n",
    "red_parallel_2 =np.ones((10,10))"
   ]
  },
  {
   "cell_type": "code",
   "execution_count": 127,
   "id": "786aec3e-3abf-4565-9961-881e128855a0",
   "metadata": {},
   "outputs": [
    {
     "data": {
      "text/plain": [
       "array([[0., 0., 0., 0., 0., 0., 0., 0., 0., 0.],\n",
       "       [0., 0., 0., 0., 0., 0., 0., 0., 0., 0.],\n",
       "       [0., 0., 0., 0., 0., 0., 0., 0., 0., 0.],\n",
       "       [0., 0., 0., 0., 0., 0., 0., 0., 0., 0.],\n",
       "       [0., 0., 0., 0., 0., 0., 0., 0., 0., 0.],\n",
       "       [0., 0., 0., 0., 0., 0., 0., 0., 0., 0.],\n",
       "       [0., 0., 0., 0., 0., 0., 0., 0., 0., 0.],\n",
       "       [0., 0., 0., 0., 0., 0., 0., 0., 0., 0.],\n",
       "       [0., 0., 0., 0., 0., 0., 0., 0., 0., 0.],\n",
       "       [0., 0., 0., 0., 0., 0., 0., 0., 0., 0.]])"
      ]
     },
     "execution_count": 127,
     "metadata": {},
     "output_type": "execute_result"
    }
   ],
   "source": [
    "red_parallel"
   ]
  },
  {
   "cell_type": "code",
   "execution_count": 128,
   "id": "d8977fdd-d930-452a-b19c-26f0b61e1df9",
   "metadata": {},
   "outputs": [],
   "source": [
    "red_parallel_batch = []"
   ]
  },
  {
   "cell_type": "code",
   "execution_count": 130,
   "id": "25dc3d34-6db0-4c27-9986-49ded033b9b8",
   "metadata": {},
   "outputs": [
    {
     "data": {
      "text/plain": [
       "[array([[0., 0., 0., 0., 0., 0., 0., 0., 0., 0.],\n",
       "        [0., 0., 0., 0., 0., 0., 0., 0., 0., 0.],\n",
       "        [0., 0., 0., 0., 0., 0., 0., 0., 0., 0.],\n",
       "        [0., 0., 0., 0., 0., 0., 0., 0., 0., 0.],\n",
       "        [0., 0., 0., 0., 0., 0., 0., 0., 0., 0.],\n",
       "        [0., 0., 0., 0., 0., 0., 0., 0., 0., 0.],\n",
       "        [0., 0., 0., 0., 0., 0., 0., 0., 0., 0.],\n",
       "        [0., 0., 0., 0., 0., 0., 0., 0., 0., 0.],\n",
       "        [0., 0., 0., 0., 0., 0., 0., 0., 0., 0.],\n",
       "        [0., 0., 0., 0., 0., 0., 0., 0., 0., 0.]]),\n",
       " array([[1., 1., 1., 1., 1., 1., 1., 1., 1., 1.],\n",
       "        [1., 1., 1., 1., 1., 1., 1., 1., 1., 1.],\n",
       "        [1., 1., 1., 1., 1., 1., 1., 1., 1., 1.],\n",
       "        [1., 1., 1., 1., 1., 1., 1., 1., 1., 1.],\n",
       "        [1., 1., 1., 1., 1., 1., 1., 1., 1., 1.],\n",
       "        [1., 1., 1., 1., 1., 1., 1., 1., 1., 1.],\n",
       "        [1., 1., 1., 1., 1., 1., 1., 1., 1., 1.],\n",
       "        [1., 1., 1., 1., 1., 1., 1., 1., 1., 1.],\n",
       "        [1., 1., 1., 1., 1., 1., 1., 1., 1., 1.],\n",
       "        [1., 1., 1., 1., 1., 1., 1., 1., 1., 1.]])]"
      ]
     },
     "execution_count": 130,
     "metadata": {},
     "output_type": "execute_result"
    }
   ],
   "source": [
    "red_parallel_batch.append(red_parallel)\n",
    "red_parallel_batch.append(red_parallel_2)\n",
    "red_parallel_batch"
   ]
  },
  {
   "cell_type": "code",
   "execution_count": 147,
   "id": "8b63ef19-12c3-4a4d-a667-6707aeb4aa8f",
   "metadata": {},
   "outputs": [],
   "source": [
    "Y = np.hstack(red_parallel_batch)"
   ]
  },
  {
   "cell_type": "code",
   "execution_count": 148,
   "id": "08bf7830-509c-45cb-9bc2-c8da2c4efd23",
   "metadata": {},
   "outputs": [
    {
     "name": "stdout",
     "output_type": "stream",
     "text": [
      "[[0. 0. 0. 0. 0. 0. 0. 0. 0. 0. 1. 1. 1. 1. 1. 1. 1. 1. 1. 1.]\n",
      " [0. 0. 0. 0. 0. 0. 0. 0. 0. 0. 1. 1. 1. 1. 1. 1. 1. 1. 1. 1.]\n",
      " [0. 0. 0. 0. 0. 0. 0. 0. 0. 0. 1. 1. 1. 1. 1. 1. 1. 1. 1. 1.]\n",
      " [0. 0. 0. 0. 0. 0. 0. 0. 0. 0. 1. 1. 1. 1. 1. 1. 1. 1. 1. 1.]\n",
      " [0. 0. 0. 0. 0. 0. 0. 0. 0. 0. 1. 1. 1. 1. 1. 1. 1. 1. 1. 1.]\n",
      " [0. 0. 0. 0. 0. 0. 0. 0. 0. 0. 1. 1. 1. 1. 1. 1. 1. 1. 1. 1.]\n",
      " [0. 0. 0. 0. 0. 0. 0. 0. 0. 0. 1. 1. 1. 1. 1. 1. 1. 1. 1. 1.]\n",
      " [0. 0. 0. 0. 0. 0. 0. 0. 0. 0. 1. 1. 1. 1. 1. 1. 1. 1. 1. 1.]\n",
      " [0. 0. 0. 0. 0. 0. 0. 0. 0. 0. 1. 1. 1. 1. 1. 1. 1. 1. 1. 1.]\n",
      " [0. 0. 0. 0. 0. 0. 0. 0. 0. 0. 1. 1. 1. 1. 1. 1. 1. 1. 1. 1.]]\n"
     ]
    }
   ],
   "source": [
    "print(Y)"
   ]
  },
  {
   "cell_type": "code",
   "execution_count": 149,
   "id": "6d8f75fe-cac8-462f-a1c1-21450b6f1c09",
   "metadata": {},
   "outputs": [],
   "source": [
    "yTorch = torch.from_numpy(Y)"
   ]
  },
  {
   "cell_type": "code",
   "execution_count": 151,
   "id": "c1d3c2dd-87ac-4a5c-a89f-e13463ac609d",
   "metadata": {},
   "outputs": [],
   "source": [
    "yTorch = yTorch * 2"
   ]
  },
  {
   "cell_type": "code",
   "execution_count": 157,
   "id": "a5402305-7d9d-46aa-9e46-c8e1bda4ac1e",
   "metadata": {},
   "outputs": [
    {
     "data": {
      "text/plain": [
       "tensor([[0., 0., 0., 0., 0., 0., 0., 0., 0., 0., 2., 2., 2., 2., 2., 2., 2., 2.,\n",
       "         2., 2.],\n",
       "        [0., 0., 0., 0., 0., 0., 0., 0., 0., 0., 2., 2., 2., 2., 2., 2., 2., 2.,\n",
       "         2., 2.],\n",
       "        [0., 0., 0., 0., 0., 0., 0., 0., 0., 0., 2., 2., 2., 2., 2., 2., 2., 2.,\n",
       "         2., 2.],\n",
       "        [0., 0., 0., 0., 0., 0., 0., 0., 0., 0., 2., 2., 2., 2., 2., 2., 2., 2.,\n",
       "         2., 2.],\n",
       "        [0., 0., 0., 0., 0., 0., 0., 0., 0., 0., 2., 2., 2., 2., 2., 2., 2., 2.,\n",
       "         2., 2.],\n",
       "        [0., 0., 0., 0., 0., 0., 0., 0., 0., 0., 2., 2., 2., 2., 2., 2., 2., 2.,\n",
       "         2., 2.],\n",
       "        [0., 0., 0., 0., 0., 0., 0., 0., 0., 0., 2., 2., 2., 2., 2., 2., 2., 2.,\n",
       "         2., 2.],\n",
       "        [0., 0., 0., 0., 0., 0., 0., 0., 0., 0., 2., 2., 2., 2., 2., 2., 2., 2.,\n",
       "         2., 2.],\n",
       "        [0., 0., 0., 0., 0., 0., 0., 0., 0., 0., 2., 2., 2., 2., 2., 2., 2., 2.,\n",
       "         2., 2.],\n",
       "        [0., 0., 0., 0., 0., 0., 0., 0., 0., 0., 2., 2., 2., 2., 2., 2., 2., 2.,\n",
       "         2., 2.]], dtype=torch.float64)"
      ]
     },
     "execution_count": 157,
     "metadata": {},
     "output_type": "execute_result"
    }
   ],
   "source": [
    "yTorch"
   ]
  },
  {
   "cell_type": "code",
   "execution_count": 154,
   "id": "b1e57330-eaaf-438b-9dd1-05387d66fe55",
   "metadata": {},
   "outputs": [],
   "source": [
    "Y = Y * 2"
   ]
  },
  {
   "cell_type": "code",
   "execution_count": 156,
   "id": "c1571bca-5998-4f23-b0b1-3c9a1f366f8d",
   "metadata": {},
   "outputs": [
    {
     "data": {
      "text/plain": [
       "array([[0., 0., 0., 0., 0., 0., 0., 0., 0., 0., 2., 2., 2., 2., 2., 2.,\n",
       "        2., 2., 2., 2.],\n",
       "       [0., 0., 0., 0., 0., 0., 0., 0., 0., 0., 2., 2., 2., 2., 2., 2.,\n",
       "        2., 2., 2., 2.],\n",
       "       [0., 0., 0., 0., 0., 0., 0., 0., 0., 0., 2., 2., 2., 2., 2., 2.,\n",
       "        2., 2., 2., 2.],\n",
       "       [0., 0., 0., 0., 0., 0., 0., 0., 0., 0., 2., 2., 2., 2., 2., 2.,\n",
       "        2., 2., 2., 2.],\n",
       "       [0., 0., 0., 0., 0., 0., 0., 0., 0., 0., 2., 2., 2., 2., 2., 2.,\n",
       "        2., 2., 2., 2.],\n",
       "       [0., 0., 0., 0., 0., 0., 0., 0., 0., 0., 2., 2., 2., 2., 2., 2.,\n",
       "        2., 2., 2., 2.],\n",
       "       [0., 0., 0., 0., 0., 0., 0., 0., 0., 0., 2., 2., 2., 2., 2., 2.,\n",
       "        2., 2., 2., 2.],\n",
       "       [0., 0., 0., 0., 0., 0., 0., 0., 0., 0., 2., 2., 2., 2., 2., 2.,\n",
       "        2., 2., 2., 2.],\n",
       "       [0., 0., 0., 0., 0., 0., 0., 0., 0., 0., 2., 2., 2., 2., 2., 2.,\n",
       "        2., 2., 2., 2.],\n",
       "       [0., 0., 0., 0., 0., 0., 0., 0., 0., 0., 2., 2., 2., 2., 2., 2.,\n",
       "        2., 2., 2., 2.]])"
      ]
     },
     "execution_count": 156,
     "metadata": {},
     "output_type": "execute_result"
    }
   ],
   "source": [
    "Y"
   ]
  },
  {
   "cell_type": "code",
   "execution_count": null,
   "id": "a8e184b6-0e0e-4c8c-9dfa-b92faf222449",
   "metadata": {},
   "outputs": [],
   "source": []
  }
 ],
 "metadata": {
  "kernelspec": {
   "display_name": "Python 3 (ipykernel)",
   "language": "python",
   "name": "python3"
  },
  "language_info": {
   "codemirror_mode": {
    "name": "ipython",
    "version": 3
   },
   "file_extension": ".py",
   "mimetype": "text/x-python",
   "name": "python",
   "nbconvert_exporter": "python",
   "pygments_lexer": "ipython3",
   "version": "3.12.7"
  }
 },
 "nbformat": 4,
 "nbformat_minor": 5
}
