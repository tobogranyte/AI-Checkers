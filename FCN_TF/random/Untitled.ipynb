{
 "cells": [
  {
   "cell_type": "code",
   "execution_count": 1,
   "metadata": {},
   "outputs": [
    {
     "name": "stdout",
     "output_type": "stream",
     "text": [
      "[0.02398268 0.02357144 0.03086953 0.02451272 0.01855747 0.02060792\n",
      " 0.03025355 0.02682507 0.02288344 0.01733276 0.02689512 0.02472496\n",
      " 0.02234136 0.02034869 0.02530541 0.02556751 0.01928904 0.01639445\n",
      " 0.01803112 0.01826379 0.0180432  0.02490168 0.0238234  0.02308406\n",
      " 0.01694071 0.01563149 0.02003746 0.02069169 0.01964515 0.03288431\n",
      " 0.03232102 0.03367617 0.01840213 0.01965258 0.0187505  0.02162564\n",
      " 0.01257472 0.01304705 0.01588173 0.01750832 0.01363929 0.01164377\n",
      " 0.0183123  0.01597536 0.01430049 0.01444358 0.02103529 0.01496889]\n",
      "[0. 0. 0. 0. 0. 0. 0. 0. 0. 0. 0. 0. 0. 0. 0. 0. 0. 0. 0. 0. 0. 0. 0. 0.\n",
      " 0. 0. 0. 0. 1. 1. 1. 1. 0. 0. 0. 0. 0. 0. 0. 0. 0. 0. 0. 0. 0. 0. 0. 0.]\n"
     ]
    }
   ],
   "source": [
    "import numpy as np\n",
    "import pickle\n",
    "\n",
    "[R_AL, R_masks] = pickle.load(open('random_move_'+ str(111) + '.pkl', \"rb\"))\n",
    "print(R_AL)\n",
    "print(R_masks)"
   ]
  },
  {
   "cell_type": "code",
   "execution_count": null,
   "metadata": {},
   "outputs": [],
   "source": []
  }
 ],
 "metadata": {
  "kernelspec": {
   "display_name": "Python 3",
   "language": "python",
   "name": "python3"
  },
  "language_info": {
   "codemirror_mode": {
    "name": "ipython",
    "version": 3
   },
   "file_extension": ".py",
   "mimetype": "text/x-python",
   "name": "python",
   "nbconvert_exporter": "python",
   "pygments_lexer": "ipython3",
   "version": "3.6.3"
  }
 },
 "nbformat": 4,
 "nbformat_minor": 2
}
