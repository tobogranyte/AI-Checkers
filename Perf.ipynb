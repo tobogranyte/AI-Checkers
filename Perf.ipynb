{
 "cells": [
  {
   "cell_type": "code",
   "execution_count": 2,
   "id": "85e940c6-69d9-4c26-91d5-7551ae5decc4",
   "metadata": {},
   "outputs": [],
   "source": [
    "import numpy as np\n",
    "import time\n",
    "from SimulationBoard import SimulationBoard\n",
    "from Piece import Piece"
   ]
  },
  {
   "cell_type": "code",
   "execution_count": 3,
   "id": "35015006-96cf-4840-89c2-497bdea7415e",
   "metadata": {},
   "outputs": [],
   "source": [
    "red_pieces = []\n",
    "black_pieces = []\n",
    "for p in range (0,12):\n",
    "    red_pieces.append(Piece(p, \"Red\", king = False, x = p%4, y = int(p/4), in_play = True))\n",
    "    black_pieces.append(Piece(p, \"Black\", king = False, x = p%4, y = int(p/4), in_play = True))\n",
    "state = np.zeros((4, 8, 4))"
   ]
  },
  {
   "cell_type": "code",
   "execution_count": 4,
   "id": "33bbb38f-b46a-41e8-aca8-31ba85d866d6",
   "metadata": {},
   "outputs": [],
   "source": [
    "simulation_set = {}\n",
    "\n",
    "start_time = time.time()\n",
    "for count in range (100):\n",
    "    simulation_state = {}\n",
    "    simulation_state.update({\"state\": state.copy(), \"red_pieces\": list(red_pieces), \"black_pieces\": list(black_pieces)})\n",
    "    \n",
    "    simulation_set.update({count: simulation_state})\n",
    "end_time = time.time()\n",
    "total = end_time - start_time"
   ]
  },
  {
   "cell_type": "code",
   "execution_count": 5,
   "id": "dd8593b7-7065-486e-9ffe-7e9d6ff5a9ae",
   "metadata": {},
   "outputs": [
    {
     "name": "stdout",
     "output_type": "stream",
     "text": [
      "0.0011553764343261719\n"
     ]
    }
   ],
   "source": [
    "print(total)"
   ]
  },
  {
   "cell_type": "code",
   "execution_count": 6,
   "id": "ba0d51ff-1d6b-4d05-a091-05f619142043",
   "metadata": {},
   "outputs": [],
   "source": [
    "simulation_set_2 = []\n",
    "\n",
    "start_time = time.time()\n",
    "for count in range (100):\n",
    "    simulation_board = SimulationBoard(state, red_pieces, black_pieces)\n",
    "    simulation_set_2.append(simulation_board)\n",
    "end_time = time.time()\n",
    "total_2 = end_time - start_time"
   ]
  },
  {
   "cell_type": "code",
   "execution_count": 7,
   "id": "a8c90d85-77b7-422c-8a0d-db13799797b5",
   "metadata": {},
   "outputs": [
    {
     "name": "stdout",
     "output_type": "stream",
     "text": [
      "0.005983591079711914\n"
     ]
    }
   ],
   "source": [
    "print(total_2)"
   ]
  },
  {
   "cell_type": "code",
   "execution_count": null,
   "id": "3004a17b-1cc5-4c70-a053-443fa4e7deeb",
   "metadata": {},
   "outputs": [],
   "source": []
  }
 ],
 "metadata": {
  "kernelspec": {
   "display_name": "Python 3 (ipykernel)",
   "language": "python",
   "name": "python3"
  },
  "language_info": {
   "codemirror_mode": {
    "name": "ipython",
    "version": 3
   },
   "file_extension": ".py",
   "mimetype": "text/x-python",
   "name": "python",
   "nbconvert_exporter": "python",
   "pygments_lexer": "ipython3",
   "version": "3.11.0"
  }
 },
 "nbformat": 4,
 "nbformat_minor": 5
}
